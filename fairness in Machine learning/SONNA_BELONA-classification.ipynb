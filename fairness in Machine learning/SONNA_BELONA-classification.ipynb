{
 "cells": [
  {
   "cell_type": "markdown",
   "metadata": {},
   "source": [
    "# Exploring and building the dataset"
   ]
  },
  {
   "cell_type": "code",
   "execution_count": 1,
   "metadata": {
    "collapsed": true
   },
   "outputs": [],
   "source": [
    "import numpy as np\n",
    "import pandas as pd \n",
    "import torch\n",
    "import torchvision.models  as models\n",
    "import torch.nn as nn\n",
    "import torch.optim as optim\n",
    "from   tqdm import tqdm\n",
    "from   torch.utils.data import DataLoader, TensorDataset\n",
    "import matplotlib.pyplot as plt\n"
   ]
  },
  {
   "cell_type": "code",
   "execution_count": 2,
   "metadata": {
    "collapsed": true
   },
   "outputs": [],
   "source": [
    "import warnings\n",
    "warnings.filterwarnings(\"ignore\")"
   ]
  },
  {
   "cell_type": "code",
   "execution_count": 3,
   "metadata": {
    "collapsed": true
   },
   "outputs": [],
   "source": [
    "train_data = np.load(\"adult/adult_train.npz\")"
   ]
  },
  {
   "cell_type": "code",
   "execution_count": 4,
   "metadata": {
    "collapsed": true
   },
   "outputs": [],
   "source": [
    "header = np.loadtxt(\"adult/adult_headers.txt\", dtype = str )"
   ]
  },
  {
   "cell_type": "code",
   "execution_count": 5,
   "metadata": {
    "collapsed": true,
    "scrolled": true
   },
   "outputs": [],
   "source": [
    "train_data_X = pd.DataFrame(train_data[\"x\"], columns= header[:-1])\n",
    "train_data_Y = pd.DataFrame(train_data[\"y\"], columns= [header[-1]])\n",
    "train_data_A = pd.DataFrame(train_data[\"a\"], columns = [\"gender\"])"
   ]
  },
  {
   "cell_type": "code",
   "execution_count": 6,
   "metadata": {
    "collapsed": true
   },
   "outputs": [],
   "source": [
    "data = pd.concat((train_data_X, train_data_Y, train_data_A), axis = 1)"
   ]
  },
  {
   "cell_type": "code",
   "execution_count": 7,
   "metadata": {
    "collapsed": true
   },
   "outputs": [],
   "source": [
    "test_data = np.load(\"adult/adult_test.npz\")\n",
    "test_data_X = pd.DataFrame(test_data[\"x\"], columns= header[:-1])\n",
    "test_data_Y= pd.DataFrame(test_data[\"y\"], columns= [header[-1]])\n",
    "test_data_A = pd.DataFrame(test_data[\"a\"], columns = [\"gender\"])"
   ]
  },
  {
   "cell_type": "markdown",
   "metadata": {},
   "source": [
    "# Definition of the mains functions of the task\n",
    "\n",
    "we have the Class PandasDF which help us switch between the the dataframes and the tensors. this class and its methods allow us to manipulate the data in the right way depending on the task. The BinaryClassifier Class which uses the pytorch library. the goal of this class is to define the model of classification. We have tried several architectures such as Keras and Logistic regression Classifier. but we finally choose this because of the results we have got. the train_model and the test_model functions that are respectively for training and testing of the model on the data. and Finaly the function to plot the corellations."
   ]
  },
  {
   "cell_type": "code",
   "execution_count": 8,
   "metadata": {
    "collapsed": true
   },
   "outputs": [],
   "source": [
    "class PandasDF(TensorDataset):\n",
    "\n",
    "    def __init__(self, *dataframes):\n",
    "        tensors = (self._df_to_tensor(df) for df in dataframes)\n",
    "        super(PandasDF, self).__init__(*tensors)\n",
    "\n",
    "    def _df_to_tensor(self, df):\n",
    "        if isinstance(df, pd.Series):\n",
    "            df = df.to_frame()\n",
    "        return torch.from_numpy(df.values).float()"
   ]
  },
  {
   "cell_type": "code",
   "execution_count": 9,
   "metadata": {
    "collapsed": true
   },
   "outputs": [],
   "source": [
    "class BinaryClassifier(nn.Module):\n",
    "    def __init__(self, in_features, n_hidden = 128):\n",
    "        super(BinaryClassifier, self).__init__()\n",
    "        \n",
    "        self.linear_network = nn.Sequential(\n",
    "                                    nn.Linear(in_features, n_hidden),\n",
    "                                    nn.ReLU(),\n",
    "                                    nn.Linear(n_hidden, n_hidden),\n",
    "                                    nn.ReLU(),\n",
    "                                    nn.Linear(n_hidden, n_hidden),\n",
    "                                    nn.ReLU(),\n",
    "                                    nn.Linear(n_hidden, n_hidden),\n",
    "                                    nn.ReLU(),\n",
    "                                    nn.Linear(n_hidden, 1))\n",
    "        \n",
    "    def forward(self, x):\n",
    "        return self.linear_network(x)"
   ]
  },
  {
   "cell_type": "code",
   "execution_count": 10,
   "metadata": {
    "collapsed": true
   },
   "outputs": [],
   "source": [
    "def train_model(model, criterion, optimizer, dataloader, num_epoch):\n",
    "    model.train()\n",
    "    \n",
    "    for epoch in tqdm(range(num_epoch)):\n",
    "        train_loss = 0.\n",
    "        for i, (data, label, _) in enumerate(dataloader):\n",
    "            \n",
    "            output = model(data)\n",
    "            loss = criterion(output, label)\n",
    "            \n",
    "            optimizer.zero_grad()\n",
    "            loss.backward()\n",
    "            optimizer.step()\n",
    "            \n",
    "            train_loss += loss.item() * len(data)/ float(len(dataloader.dataset))\n",
    "        \n",
    "        \n",
    "        if epoch % 50 == 0:\n",
    "            print(\"Epoch: \", epoch, \"Loss: \", [train_loss])\n",
    "        \n",
    "    print(\"Training Loss: \", train_loss)\n",
    "    \n",
    "    print(\"Done Training\")\n",
    "\n",
    "    \n",
    "def test_model(model, dataloader):\n",
    "    model.eval()\n",
    "    \n",
    "    with torch.no_grad():\n",
    "        accuracy = 0\n",
    "        n_A_zero = 0\n",
    "        n_A_one = 0\n",
    "        dp_A_zero = 0\n",
    "        dp_A_one = 0\n",
    "        for i, (data, label, sensitive) in enumerate(dataloader):\n",
    "\n",
    "                output = model(data)\n",
    "                predicted = torch.tensor((output.squeeze() > 0.).long()).reshape((-1,1))\n",
    "                \n",
    "                for item in range(len(sensitive)):\n",
    "                    if sensitive[item] == 0:\n",
    "                        n_A_zero += 1\n",
    "                        dp_A_zero += predicted[item].item()\n",
    "                    else:\n",
    "                        n_A_one += 1\n",
    "                        dp_A_one += predicted[item].item()\n",
    "                \n",
    "                accuracy += np.equal(predicted, label).sum().item()\n",
    "        \n",
    "        mean_dif = dp_A_zero / n_A_zero - dp_A_one / n_A_one\n",
    "            \n",
    "        print(\"Test accuracy is: \", accuracy / len(dataloader.dataset))\n",
    "        print(\"Mean difference: \", mean_dif)\n",
    "        print(\"Demographic parity is: \", np.abs(mean_dif))"
   ]
  },
  {
   "cell_type": "code",
   "execution_count": 11,
   "metadata": {
    "collapsed": true
   },
   "outputs": [],
   "source": [
    "def train_model_(model, criterion, optimizer, dataloader, num_epoch):\n",
    "    model.train()\n",
    "    \n",
    "    for epoch in tqdm(range(num_epoch)):\n",
    "        train_loss = 0.\n",
    "        for i, (data, _, label) in enumerate(dataloader):\n",
    "            \n",
    "            output = model(data)\n",
    "            loss = criterion(output, label)\n",
    "            \n",
    "            optimizer.zero_grad()\n",
    "            loss.backward()\n",
    "            optimizer.step()\n",
    "            \n",
    "            train_loss += loss.item() * len(data)/ float(len(dataloader.dataset))\n",
    "        \n",
    "        \n",
    "        if epoch % 50 == 0:\n",
    "            print(\"Epoch: \", epoch, \"Loss: \", [train_loss])\n",
    "        \n",
    "    print(\"Training Loss: \", train_loss)\n",
    "    \n",
    "    print(\"Done Training\")\n",
    "\n",
    "    \n",
    "def test_model_(model, dataloader):\n",
    "    model.eval()\n",
    "    \n",
    "    with torch.no_grad():\n",
    "        accuracy = 0\n",
    "        n_A_zero = 0\n",
    "        n_A_one = 0\n",
    "        sum_zero = 0\n",
    "        sum_one = 0\n",
    "        for i, (data, _, sensitive) in enumerate(dataloader):\n",
    "\n",
    "                output = model(data)\n",
    "                predicted = torch.tensor((output.squeeze() > 0.).long()).reshape((-1,1))\n",
    "                \n",
    "                for item in range(len(sensitive)):\n",
    "                    if sensitive[item] == 0:\n",
    "                        n_A_zero += 1\n",
    "                        sum_zero += predicted[item].item() == sensitive[item].item()\n",
    "                    else:\n",
    "                        n_A_one += 1\n",
    "                        sum_one += predicted[item].item() == sensitive[item].item()\n",
    "                \n",
    "                accuracy += np.equal(predicted, sensitive).sum().item()\n",
    "        racc = 0.5 * (sum_zero / n_A_zero + sum_one / n_A_one)\n",
    "            \n",
    "        print(\"Test accuracy is: \", accuracy / len(dataloader.dataset))\n",
    "        print(\"Reweighted accuracy is: \", racc)"
   ]
  },
  {
   "cell_type": "code",
   "execution_count": 67,
   "metadata": {
    "collapsed": false
   },
   "outputs": [],
   "source": [
    "def plot_correlation(corr_x_y):\n",
    "    #print(len(corr_x_y))\n",
    "    plt.figure(figsize=(8,8))\n",
    "    labels = list(corr_x_y.index)\n",
    "    sizes = list(corr_x_y.get_values()) \n",
    "    if (len(corr_x_y) == 4):\n",
    "        explode = (0.1, 0, 0,0)\n",
    "        colors = ['yellowgreen', 'gold', 'lightskyblue', 'lightcoral']\n",
    "    else:\n",
    "        explode = (0.1, 0, 0, 0, 0, 0, 0, 0, 0, 0,0)\n",
    "        colors = ['yellowgreen', 'gold', 'lightskyblue', 'lightcoral',  'blue', 'green', 'red', 'cyan', 'magenta', 'yellow']\n",
    "    \n",
    "\n",
    "    # Plot\n",
    "    plt.pie(sizes, explode=explode, labels=labels, colors=colors,\n",
    "    autopct='%1.1f%%', shadow=True, startangle=140)\n",
    "\n",
    "    plt.axis('equal')\n",
    "    plt.show()\n",
    "\n"
   ]
  },
  {
   "cell_type": "markdown",
   "metadata": {},
   "source": [
    "#### 1- Identification of the features that are most correlated with income $Y$ and gender $A$"
   ]
  },
  {
   "cell_type": "code",
   "execution_count": 14,
   "metadata": {
    "collapsed": false
   },
   "outputs": [],
   "source": [
    "corr = np.abs(data.corr())"
   ]
  },
  {
   "cell_type": "code",
   "execution_count": 50,
   "metadata": {
    "collapsed": false
   },
   "outputs": [
    {
     "name": "stdout",
     "output_type": "stream",
     "text": [
      "income                               1.000000\n",
      "marital-status_Married-civ-spouse    0.444696\n",
      "relationship_Husband                 0.401035\n",
      "education_num                        0.335154\n",
      "marital-status_Never-married         0.318440\n",
      "age_u30                              0.238133\n",
      "hours-per-week                       0.229689\n",
      "relationship_Own-child               0.228532\n",
      "capital-gain                         0.223329\n",
      "sex_Female                           0.215980\n",
      "sex_Male                             0.215980\n",
      "Name: income, dtype: float64\n"
     ]
    },
    {
     "data": {
      "image/png": "[encoded data removed]",
      "text/plain": [
       "<Figure size 576x576 with 1 Axes>"
      ]
     },
     "metadata": {},
     "output_type": "display_data"
    }
   ],
   "source": [
    "### correlation with labels Y\n",
    "\n",
    "corr_Y = corr[\"income\"].sort_values(axis = 0, ascending= False)[:11]\n",
    "print(corr_Y)\n",
    "plot_correlation(corr_Y)"
   ]
  },
  {
   "cell_type": "code",
   "execution_count": 16,
   "metadata": {
    "collapsed": false
   },
   "outputs": [
    {
     "name": "stdout",
     "output_type": "stream",
     "text": [
      "sex_Female                           1.000000\n",
      "sex_Male                             1.000000\n",
      "gender                               1.000000\n",
      "relationship_Husband                 0.580135\n",
      "marital-status_Married-civ-spouse    0.431805\n",
      "relationship_Unmarried               0.321273\n",
      "relationship_Wife                    0.319311\n",
      "occupation_Adm-clerical              0.263148\n",
      "hours-per-week                       0.229309\n",
      "marital-status_Divorced              0.228621\n",
      "occupation_Craft-repair              0.223128\n",
      "Name: gender, dtype: float64\n"
     ]
    },
    {
     "data": {
      "image/png": "[encoded data removed]",
      "text/plain": [
       "<Figure size 576x576 with 1 Axes>"
      ]
     },
     "metadata": {},
     "output_type": "display_data"
    }
   ],
   "source": [
    "### correlation with attribute A\n",
    "\n",
    "corr_A = corr[\"gender\"].nlargest(11)\n",
    "print(corr_A)\n",
    "plot_correlation(corr_A)"
   ]
  },
  {
   "cell_type": "markdown",
   "metadata": {},
   "source": [
    "### The 10 features most correlated with Y are: \n",
    "### 'marital-status_Married-civ-spouse', 'relationship_Husband', 'education_num', 'marital-status_Never-married', 'age_u30', 'hours-per-week', 'relationship_Own-child', 'capital-gain', 'sex_Female', 'sex_Male'"
   ]
  },
  {
   "cell_type": "markdown",
   "metadata": {},
   "source": [
    "### The 10 features most correlated with A are: \n",
    "### 'sex_Female', 'sex_Male', 'relationship_Husband', 'marital-status_Married-civ-spouse', 'relationship_Unmarried', 'relationship_Wife', 'occupation_Adm-clerical', 'hours-per-week', 'marital-status_Divorced', 'occupation_Craft-repair'"
   ]
  },
  {
   "cell_type": "markdown",
   "metadata": {},
   "source": [
    "#### 2- Train the classifier and evaluate on test set with the metrics accuracy ($acc$) and demographic parity  ($\\Delta_{DP}$)"
   ]
  },
  {
   "cell_type": "code",
   "execution_count": 17,
   "metadata": {
    "collapsed": true
   },
   "outputs": [],
   "source": [
    "train_data_t  = PandasDF(train_data_X, train_data_Y, train_data_A)\n",
    "train_loader = DataLoader(train_data_t, batch_size = 64, shuffle = True, drop_last = True) "
   ]
  },
  {
   "cell_type": "code",
   "execution_count": 18,
   "metadata": {
    "collapsed": false
   },
   "outputs": [
    {
     "name": "stderr",
     "output_type": "stream",
     "text": [
      "  1%|          | 1/100 [00:12<21:18, 12.91s/it]"
     ]
    },
    {
     "name": "stdout",
     "output_type": "stream",
     "text": [
      "Epoch:  0 Loss:  [0.4362639249723899]\n"
     ]
    },
    {
     "name": "stderr",
     "output_type": "stream",
     "text": [
      " 51%|█████     | 51/100 [13:39<12:56, 15.84s/it]"
     ]
    },
    {
     "name": "stdout",
     "output_type": "stream",
     "text": [
      "Epoch:  50 Loss:  [0.2654654415968628]\n"
     ]
    },
    {
     "name": "stderr",
     "output_type": "stream",
     "text": [
      "100%|██████████| 100/100 [26:35<00:00, 15.99s/it]"
     ]
    },
    {
     "name": "stdout",
     "output_type": "stream",
     "text": [
      "Training Loss:  0.21750456003763327\n",
      "Done Training\n"
     ]
    },
    {
     "name": "stderr",
     "output_type": "stream",
     "text": [
      "\n"
     ]
    }
   ],
   "source": [
    "in_features = train_loader.dataset.tensors[0].shape[-1]\n",
    "model = BinaryClassifier(in_features)\n",
    "criterion = nn.BCEWithLogitsLoss()\n",
    "optimizer = optim.Adam(model.parameters())\n",
    "num_epoch = 100\n",
    "\n",
    "train_model(model, criterion, optimizer, train_loader, num_epoch)"
   ]
  },
  {
   "cell_type": "code",
   "execution_count": 19,
   "metadata": {
    "collapsed": true
   },
   "outputs": [],
   "source": [
    "test_data_t  = PandasDF(test_data_X, test_data_Y, test_data_A)\n",
    "test_loader = DataLoader(test_data_t, batch_size = 64, shuffle = True, drop_last = False) "
   ]
  },
  {
   "cell_type": "code",
   "execution_count": 20,
   "metadata": {
    "collapsed": false,
    "scrolled": true
   },
   "outputs": [
    {
     "name": "stdout",
     "output_type": "stream",
     "text": [
      "Test accuracy is:  0.8401203857256925\n",
      "Mean difference:  -0.1797535876950798\n",
      "Demographic parity is:  0.1797535876950798\n"
     ]
    }
   ],
   "source": [
    "test_model(model, test_loader)"
   ]
  },
  {
   "cell_type": "markdown",
   "metadata": {},
   "source": [
    "#### 3- Train and evaluate without attributes of high correlation with gender"
   ]
  },
  {
   "cell_type": "code",
   "execution_count": 21,
   "metadata": {
    "collapsed": false
   },
   "outputs": [
    {
     "name": "stdout",
     "output_type": "stream",
     "text": [
      "['sex_Female', 'sex_Male', 'relationship_Husband', 'marital-status_Married-civ-spouse', 'relationship_Unmarried', 'relationship_Wife', 'occupation_Adm-clerical', 'hours-per-week', 'marital-status_Divorced', 'occupation_Craft-repair']\n"
     ]
    }
   ],
   "source": [
    "s_att = list(corr_A.index)\n",
    "s_att.remove('gender')\n",
    "print(s_att)"
   ]
  },
  {
   "cell_type": "code",
   "execution_count": 22,
   "metadata": {
    "collapsed": false,
    "scrolled": true
   },
   "outputs": [],
   "source": [
    "train_ws = train_data_X.drop(labels= s_att, axis=1)\n",
    "test_ws = test_data_X.drop(labels= s_att, axis=1)"
   ]
  },
  {
   "cell_type": "code",
   "execution_count": 23,
   "metadata": {
    "collapsed": true
   },
   "outputs": [],
   "source": [
    "train_data_wst  = PandasDF(train_ws, train_data_Y, train_data_A)\n",
    "train_loader_ws = DataLoader(train_data_wst, batch_size = 64, shuffle = True, drop_last = True) "
   ]
  },
  {
   "cell_type": "code",
   "execution_count": 26,
   "metadata": {
    "collapsed": false
   },
   "outputs": [
    {
     "name": "stderr",
     "output_type": "stream",
     "text": [
      "\n",
      "\n",
      "  0%|          | 0/100 [00:00<?, ?it/s]\u001b[A\u001b[A\n",
      "\n",
      "  1%|          | 1/100 [00:10<17:48, 10.80s/it]\u001b[A\u001b[A"
     ]
    },
    {
     "name": "stdout",
     "output_type": "stream",
     "text": [
      "Epoch:  0 Loss:  [0.46893920873834855]\n"
     ]
    },
    {
     "name": "stderr",
     "output_type": "stream",
     "text": [
      "\n",
      "\n",
      "  2%|▏         | 2/100 [00:23<18:45, 11.49s/it]\u001b[A\u001b[A\n",
      "\n",
      "  3%|▎         | 3/100 [00:38<20:02, 12.40s/it]\u001b[A\u001b[A\n",
      "\n",
      "  4%|▍         | 4/100 [00:53<21:00, 13.13s/it]\u001b[A\u001b[A\n",
      "\n",
      "  5%|▌         | 5/100 [01:08<21:37, 13.66s/it]\u001b[A\u001b[A\n",
      "\n",
      "  6%|▌         | 6/100 [01:23<22:05, 14.10s/it]\u001b[A\u001b[A\n",
      "\n",
      "  7%|▋         | 7/100 [01:38<22:14, 14.35s/it]\u001b[A\u001b[A\n",
      "\n",
      "  8%|▊         | 8/100 [01:53<22:14, 14.51s/it]\u001b[A\u001b[A\n",
      "\n",
      "  9%|▉         | 9/100 [02:08<22:23, 14.76s/it]\u001b[A\u001b[A\n",
      "\n",
      " 10%|█         | 10/100 [02:23<22:22, 14.92s/it]\u001b[A\u001b[A\n",
      "\n",
      " 11%|█         | 11/100 [02:38<22:12, 14.97s/it]\u001b[A\u001b[A\n",
      "\n",
      " 12%|█▏        | 12/100 [02:54<22:05, 15.06s/it]\u001b[A\u001b[A\n",
      "\n",
      " 13%|█▎        | 13/100 [03:09<21:52, 15.09s/it]\u001b[A\u001b[A\n",
      "\n",
      " 14%|█▍        | 14/100 [03:24<21:50, 15.24s/it]\u001b[A\u001b[A\n",
      "\n",
      " 15%|█▌        | 15/100 [03:40<21:47, 15.38s/it]\u001b[A\u001b[A\n",
      "\n",
      " 16%|█▌        | 16/100 [03:56<21:37, 15.44s/it]\u001b[A\u001b[A\n",
      "\n",
      " 17%|█▋        | 17/100 [04:11<21:18, 15.40s/it]\u001b[A\u001b[A\n",
      "\n",
      " 18%|█▊        | 18/100 [04:26<21:06, 15.44s/it]\u001b[A\u001b[A\n",
      "\n",
      " 19%|█▉        | 19/100 [04:42<20:52, 15.47s/it]\u001b[A\u001b[A\n",
      "\n",
      " 20%|██        | 20/100 [04:58<20:39, 15.50s/it]\u001b[A\u001b[A\n",
      "\n",
      " 21%|██        | 21/100 [05:14<20:42, 15.72s/it]\u001b[A\u001b[A\n",
      "\n",
      " 22%|██▏       | 22/100 [05:29<20:14, 15.57s/it]\u001b[A\u001b[A\n",
      "\n",
      " 23%|██▎       | 23/100 [05:44<19:52, 15.48s/it]\u001b[A\u001b[A\n",
      "\n",
      " 24%|██▍       | 24/100 [06:00<19:36, 15.48s/it]\u001b[A\u001b[A\n",
      "\n",
      " 25%|██▌       | 25/100 [06:15<19:18, 15.44s/it]\u001b[A\u001b[A\n",
      "\n",
      " 26%|██▌       | 26/100 [06:30<18:58, 15.38s/it]\u001b[A\u001b[A\n",
      "\n",
      " 27%|██▋       | 27/100 [06:46<18:41, 15.36s/it]\u001b[A\u001b[A\n",
      "\n",
      " 28%|██▊       | 28/100 [07:01<18:19, 15.27s/it]\u001b[A\u001b[A\n",
      "\n",
      " 29%|██▉       | 29/100 [07:16<17:53, 15.12s/it]\u001b[A\u001b[A\n",
      "\n",
      " 30%|███       | 30/100 [07:31<17:36, 15.09s/it]\u001b[A\u001b[A\n",
      "\n",
      " 31%|███       | 31/100 [07:45<17:15, 15.01s/it]\u001b[A\u001b[A\n",
      "\n",
      " 32%|███▏      | 32/100 [08:00<16:56, 14.95s/it]\u001b[A\u001b[A\n",
      "\n",
      " 33%|███▎      | 33/100 [08:15<16:39, 14.92s/it]\u001b[A\u001b[A\n",
      "\n",
      " 34%|███▍      | 34/100 [08:30<16:19, 14.84s/it]\u001b[A\u001b[A\n",
      "\n",
      " 35%|███▌      | 35/100 [08:44<16:02, 14.81s/it]\u001b[A\u001b[A\n",
      "\n",
      " 36%|███▌      | 36/100 [08:59<15:45, 14.77s/it]\u001b[A\u001b[A\n",
      "\n",
      " 37%|███▋      | 37/100 [09:14<15:29, 14.76s/it]\u001b[A\u001b[A\n",
      "\n",
      " 38%|███▊      | 38/100 [09:29<15:16, 14.79s/it]\u001b[A\u001b[A\n",
      "\n",
      " 39%|███▉      | 39/100 [09:43<15:01, 14.78s/it]\u001b[A\u001b[A\n",
      "\n",
      " 40%|████      | 40/100 [09:58<14:49, 14.82s/it]\u001b[A\u001b[A\n",
      "\n",
      " 41%|████      | 41/100 [10:14<14:43, 14.98s/it]\u001b[A\u001b[A\n",
      "\n",
      " 42%|████▏     | 42/100 [10:30<14:47, 15.29s/it]\u001b[A\u001b[A\n",
      "\n",
      " 43%|████▎     | 43/100 [10:45<14:23, 15.15s/it]\u001b[A\u001b[A\n",
      "\n",
      " 44%|████▍     | 44/100 [11:00<14:08, 15.15s/it]\u001b[A\u001b[A\n",
      "\n",
      " 45%|████▌     | 45/100 [11:15<13:50, 15.10s/it]\u001b[A\u001b[A\n",
      "\n",
      " 46%|████▌     | 46/100 [11:30<13:36, 15.12s/it]\u001b[A\u001b[A\n",
      "\n",
      " 47%|████▋     | 47/100 [11:46<13:36, 15.41s/it]\u001b[A\u001b[A\n",
      "\n",
      " 48%|████▊     | 48/100 [12:04<13:59, 16.15s/it]\u001b[A\u001b[A\n",
      "\n",
      " 49%|████▉     | 49/100 [12:13<11:59, 14.11s/it]\u001b[A\u001b[A\n",
      "\n",
      " 50%|█████     | 50/100 [12:15<08:38, 10.37s/it]\u001b[A\u001b[A\n",
      "\n",
      " 51%|█████     | 51/100 [12:17<06:21,  7.79s/it]\u001b[A\u001b[A"
     ]
    },
    {
     "name": "stdout",
     "output_type": "stream",
     "text": [
      "Epoch:  50 Loss:  [0.2683990374598776]\n"
     ]
    },
    {
     "name": "stderr",
     "output_type": "stream",
     "text": [
      "\n",
      "\n",
      " 52%|█████▏    | 52/100 [12:18<04:46,  5.97s/it]\u001b[A\u001b[A\n",
      "\n",
      " 53%|█████▎    | 53/100 [12:20<03:40,  4.69s/it]\u001b[A\u001b[A\n",
      "\n",
      " 54%|█████▍    | 54/100 [12:22<02:56,  3.83s/it]\u001b[A\u001b[A\n",
      "\n",
      " 55%|█████▌    | 55/100 [12:24<02:25,  3.24s/it]\u001b[A\u001b[A\n",
      "\n",
      " 56%|█████▌    | 56/100 [12:26<02:03,  2.81s/it]\u001b[A\u001b[A\n",
      "\n",
      " 57%|█████▋    | 57/100 [12:27<01:46,  2.49s/it]\u001b[A\u001b[A\n",
      "\n",
      " 58%|█████▊    | 58/100 [12:29<01:36,  2.30s/it]\u001b[A\u001b[A\n",
      "\n",
      " 59%|█████▉    | 59/100 [12:31<01:27,  2.13s/it]\u001b[A\u001b[A\n",
      "\n",
      " 60%|██████    | 60/100 [12:33<01:19,  2.00s/it]\u001b[A\u001b[A\n",
      "\n",
      " 61%|██████    | 61/100 [12:34<01:14,  1.91s/it]\u001b[A\u001b[A\n",
      "\n",
      " 62%|██████▏   | 62/100 [12:36<01:09,  1.84s/it]\u001b[A\u001b[A\n",
      "\n",
      " 63%|██████▎   | 63/100 [12:38<01:06,  1.80s/it]\u001b[A\u001b[A\n",
      "\n",
      " 64%|██████▍   | 64/100 [12:39<01:03,  1.77s/it]\u001b[A\u001b[A\n",
      "\n",
      " 65%|██████▌   | 65/100 [12:41<01:01,  1.75s/it]\u001b[A\u001b[A\n",
      "\n",
      " 66%|██████▌   | 66/100 [12:43<00:59,  1.75s/it]\u001b[A\u001b[A\n",
      "\n",
      " 67%|██████▋   | 67/100 [12:45<00:57,  1.74s/it]\u001b[A\u001b[A\n",
      "\n",
      " 68%|██████▊   | 68/100 [12:46<00:55,  1.75s/it]\u001b[A\u001b[A\n",
      "\n",
      " 69%|██████▉   | 69/100 [12:48<00:54,  1.75s/it]\u001b[A\u001b[A\n",
      "\n",
      " 70%|███████   | 70/100 [12:50<00:52,  1.75s/it]\u001b[A\u001b[A\n",
      "\n",
      " 71%|███████   | 71/100 [12:52<00:50,  1.75s/it]\u001b[A\u001b[A\n",
      "\n",
      " 72%|███████▏  | 72/100 [12:53<00:48,  1.75s/it]\u001b[A\u001b[A\n",
      "\n",
      " 73%|███████▎  | 73/100 [12:55<00:47,  1.75s/it]\u001b[A\u001b[A\n",
      "\n",
      " 74%|███████▍  | 74/100 [12:57<00:45,  1.74s/it]\u001b[A\u001b[A\n",
      "\n",
      " 75%|███████▌  | 75/100 [12:58<00:43,  1.75s/it]\u001b[A\u001b[A\n",
      "\n",
      " 76%|███████▌  | 76/100 [13:00<00:42,  1.75s/it]\u001b[A\u001b[A\n",
      "\n",
      " 77%|███████▋  | 77/100 [13:02<00:40,  1.77s/it]\u001b[A\u001b[A\n",
      "\n",
      " 78%|███████▊  | 78/100 [13:04<00:39,  1.79s/it]\u001b[A\u001b[A\n",
      "\n",
      " 79%|███████▉  | 79/100 [13:06<00:37,  1.80s/it]\u001b[A\u001b[A\n",
      "\n",
      " 80%|████████  | 80/100 [13:08<00:36,  1.81s/it]\u001b[A\u001b[A\n",
      "\n",
      " 81%|████████  | 81/100 [13:09<00:34,  1.82s/it]\u001b[A\u001b[A\n",
      "\n",
      " 82%|████████▏ | 82/100 [13:11<00:32,  1.82s/it]\u001b[A\u001b[A\n",
      "\n",
      " 83%|████████▎ | 83/100 [13:13<00:31,  1.83s/it]\u001b[A\u001b[A\n",
      "\n",
      " 84%|████████▍ | 84/100 [13:15<00:29,  1.84s/it]\u001b[A\u001b[A\n",
      "\n",
      " 85%|████████▌ | 85/100 [13:17<00:27,  1.84s/it]\u001b[A\u001b[A\n",
      "\n",
      " 86%|████████▌ | 86/100 [13:19<00:25,  1.85s/it]\u001b[A\u001b[A\n",
      "\n",
      " 87%|████████▋ | 87/100 [13:21<00:24,  1.85s/it]\u001b[A\u001b[A\n",
      "\n",
      " 88%|████████▊ | 88/100 [13:22<00:22,  1.85s/it]\u001b[A\u001b[A\n",
      "\n",
      " 89%|████████▉ | 89/100 [13:24<00:20,  1.84s/it]\u001b[A\u001b[A\n",
      "\n",
      " 90%|█████████ | 90/100 [13:26<00:18,  1.84s/it]\u001b[A\u001b[A\n",
      "\n",
      " 91%|█████████ | 91/100 [13:28<00:16,  1.84s/it]\u001b[A\u001b[A\n",
      "\n",
      " 92%|█████████▏| 92/100 [13:30<00:14,  1.84s/it]\u001b[A\u001b[A\n",
      "\n",
      " 93%|█████████▎| 93/100 [13:32<00:12,  1.85s/it]\u001b[A\u001b[A\n",
      "\n",
      " 94%|█████████▍| 94/100 [13:33<00:11,  1.84s/it]\u001b[A\u001b[A\n",
      "\n",
      " 95%|█████████▌| 95/100 [13:35<00:09,  1.84s/it]\u001b[A\u001b[A\n",
      "\n",
      " 96%|█████████▌| 96/100 [13:37<00:07,  1.84s/it]\u001b[A\u001b[A\n",
      "\n",
      " 97%|█████████▋| 97/100 [13:39<00:05,  1.84s/it]\u001b[A\u001b[A\n",
      "\n",
      " 98%|█████████▊| 98/100 [13:41<00:03,  1.85s/it]\u001b[A\u001b[A\n",
      "\n",
      " 99%|█████████▉| 99/100 [13:43<00:01,  1.85s/it]\u001b[A\u001b[A\n",
      "\n",
      "100%|██████████| 100/100 [13:44<00:00,  1.85s/it]\u001b[A\u001b[A"
     ]
    },
    {
     "name": "stdout",
     "output_type": "stream",
     "text": [
      "Training Loss:  0.25135177142687226\n",
      "Done Training\n"
     ]
    }
   ],
   "source": [
    "in_features = train_loader_ws.dataset.tensors[0].shape[-1]\n",
    "model_ws = BinaryClassifier(in_features)\n",
    "criterion = nn.BCEWithLogitsLoss()\n",
    "optimizer = optim.Adam(model_ws.parameters())\n",
    "num_epoch = 100\n",
    "\n",
    "train_model(model_ws, criterion, optimizer, train_loader_ws, num_epoch)"
   ]
  },
  {
   "cell_type": "code",
   "execution_count": 27,
   "metadata": {
    "collapsed": true
   },
   "outputs": [],
   "source": [
    "test_data_wst  = PandasDF(test_ws, test_data_Y, test_data_A)\n",
    "test_loader_ws = DataLoader(test_data_wst, batch_size = 64, shuffle = True, drop_last = False) "
   ]
  },
  {
   "cell_type": "code",
   "execution_count": 28,
   "metadata": {
    "collapsed": false
   },
   "outputs": [
    {
     "name": "stdout",
     "output_type": "stream",
     "text": [
      "Test accuracy is:  0.8318899330507954\n",
      "Mean difference:  -0.12892608140431983\n",
      "Demographic parity is:  0.12892608140431983\n"
     ]
    }
   ],
   "source": [
    "test_model(model_ws, test_loader_ws)"
   ]
  },
  {
   "cell_type": "markdown",
   "metadata": {},
   "source": [
    "## Question 3\n",
    "\n",
    "Here we take a look at how the features in the data correlate with the learned predictor $\\hat{Y}$ for both groups $A=0$ and $A=1$"
   ]
  },
  {
   "cell_type": "code",
   "execution_count": 29,
   "metadata": {
    "collapsed": true
   },
   "outputs": [],
   "source": [
    "train_loader = DataLoader(train_data_t, batch_size = 100, shuffle = False, drop_last = False) "
   ]
  },
  {
   "cell_type": "code",
   "execution_count": 30,
   "metadata": {
    "collapsed": true
   },
   "outputs": [],
   "source": [
    "predicted = torch.zeros(len(train_loader.dataset))\n",
    "for i, (data, label, sensitive) in enumerate(train_loader):\n",
    "        output = model(data)\n",
    "        predicted[100*i:100*(i+1)] = (output.squeeze() > 0.).long()\n"
   ]
  },
  {
   "cell_type": "code",
   "execution_count": 31,
   "metadata": {
    "collapsed": true
   },
   "outputs": [],
   "source": [
    "predicted_df = pd.DataFrame(np.array(predicted), columns= [header[-1]])\n",
    "data_p = pd.concat((train_data_X, predicted_df, train_data_A), axis = 1)"
   ]
  },
  {
   "cell_type": "markdown",
   "metadata": {},
   "source": [
    "#### Which three features in the data are most correlated with the predicted $\\hat{Y}$?"
   ]
  },
  {
   "cell_type": "code",
   "execution_count": 68,
   "metadata": {
    "collapsed": false
   },
   "outputs": [
    {
     "data": {
      "image/png": "[encoded data removed]",
      "text/plain": [
       "<Figure size 576x576 with 1 Axes>"
      ]
     },
     "metadata": {},
     "output_type": "display_data"
    }
   ],
   "source": [
    "coor_y_hate= np.abs(data_p.corr()[\"income\"]).nlargest(4)\n",
    "coor_y_hate\n",
    "plot_correlation(coor_y_hate)"
   ]
  },
  {
   "cell_type": "markdown",
   "metadata": {},
   "source": [
    "#### Which three features in the data are most correlated with the predicted $\\hat{Y}$, when we only look at examples where $A =0$?"
   ]
  },
  {
   "cell_type": "code",
   "execution_count": 69,
   "metadata": {
    "collapsed": false
   },
   "outputs": [
    {
     "data": {
      "image/png": "[encoded data removed]",
      "text/plain": [
       "<Figure size 576x576 with 1 Axes>"
      ]
     },
     "metadata": {},
     "output_type": "display_data"
    }
   ],
   "source": [
    "data_pA0 = data_p[data_p.gender != 1]\n",
    "coor_y_hate_A0=np.abs(data_pA0.corr()[\"income\"]).nlargest(4)\n",
    "plot_correlation(coor_y_hate_A0)\n"
   ]
  },
  {
   "cell_type": "markdown",
   "metadata": {},
   "source": [
    "#### Which three features in the data are most correlated with the predicted $\\hat{Y}$, when we only look at examples where $A =1$?"
   ]
  },
  {
   "cell_type": "code",
   "execution_count": 70,
   "metadata": {
    "collapsed": false
   },
   "outputs": [
    {
     "data": {
      "image/png": "[encoded data removed]",
      "text/plain": [
       "<Figure size 576x576 with 1 Axes>"
      ]
     },
     "metadata": {},
     "output_type": "display_data"
    }
   ],
   "source": [
    "data_pA1 = data_p[data_p.gender != 0]\n",
    "coor_y_hate_A1=np.abs(data_pA1.corr()[\"income\"]).nlargest(4)\n",
    "plot_correlation(coor_y_hate_A1)"
   ]
  },
  {
   "cell_type": "markdown",
   "metadata": {},
   "source": [
    "## Question 4\n",
    "\n",
    "Using the binary classifier built, we train for predicting  gender, $A$ instead of $Y$ and evaluate on test set using accuracy ($acc$) and reweighted accuracy ($\\mathcal{R}$)"
   ]
  },
  {
   "cell_type": "code",
   "execution_count": 71,
   "metadata": {
    "collapsed": false
   },
   "outputs": [],
   "source": [
    "train_data_X_ = train_data_X.drop(labels= [\"sex_Female\", \"sex_Male\"], axis=1)"
   ]
  },
  {
   "cell_type": "code",
   "execution_count": 72,
   "metadata": {
    "collapsed": true
   },
   "outputs": [],
   "source": [
    "train_data_  = PandasDF(train_data_X_, train_data_Y, train_data_A)\n",
    "train_loader_ = DataLoader(train_data_, batch_size = 64, shuffle = True, drop_last = True) "
   ]
  },
  {
   "cell_type": "code",
   "execution_count": 73,
   "metadata": {
    "collapsed": false
   },
   "outputs": [],
   "source": [
    "test_data_X_ = test_data_X.drop(labels= [\"sex_Female\", \"sex_Male\"], axis=1)"
   ]
  },
  {
   "cell_type": "code",
   "execution_count": 74,
   "metadata": {
    "collapsed": true
   },
   "outputs": [],
   "source": [
    "test_data_  = PandasDF(test_data_X_, test_data_Y, test_data_A)\n",
    "test_loader_ = DataLoader(test_data_, batch_size = 64, shuffle = True, drop_last = False) "
   ]
  },
  {
   "cell_type": "code",
   "execution_count": 75,
   "metadata": {
    "collapsed": false
   },
   "outputs": [
    {
     "name": "stderr",
     "output_type": "stream",
     "text": [
      "\n",
      "\n",
      "  0%|          | 0/200 [00:00<?, ?it/s]\u001b[A\u001b[A\n",
      "\n",
      "  0%|          | 1/200 [00:01<04:04,  1.23s/it]\u001b[A\u001b[A"
     ]
    },
    {
     "name": "stdout",
     "output_type": "stream",
     "text": [
      "Epoch:  0 Loss:  [0.473266777149169]\n"
     ]
    },
    {
     "name": "stderr",
     "output_type": "stream",
     "text": [
      "\n",
      "\n",
      "  1%|          | 2/200 [00:02<04:14,  1.29s/it]\u001b[A\u001b[A\n",
      "\n",
      "  2%|▏         | 3/200 [00:04<04:31,  1.38s/it]\u001b[A\u001b[A\n",
      "\n",
      "  2%|▏         | 4/200 [00:05<04:44,  1.45s/it]\u001b[A\u001b[A\n",
      "\n",
      "  2%|▎         | 5/200 [00:07<04:54,  1.51s/it]\u001b[A\u001b[A\n",
      "\n",
      "  3%|▎         | 6/200 [00:09<05:02,  1.56s/it]\u001b[A\u001b[A\n",
      "\n",
      "  4%|▎         | 7/200 [00:10<05:11,  1.61s/it]\u001b[A\u001b[A\n",
      "\n",
      "  4%|▍         | 8/200 [00:12<05:15,  1.64s/it]\u001b[A\u001b[A\n",
      "\n",
      "  4%|▍         | 9/200 [00:14<05:17,  1.66s/it]\u001b[A\u001b[A\n",
      "\n",
      "  5%|▌         | 10/200 [00:16<05:25,  1.72s/it]\u001b[A\u001b[A\n",
      "\n",
      "  6%|▌         | 11/200 [00:18<05:31,  1.75s/it]\u001b[A\u001b[A\n",
      "\n",
      "  6%|▌         | 12/200 [00:19<05:31,  1.77s/it]\u001b[A\u001b[A\n",
      "\n",
      "  6%|▋         | 13/200 [00:21<05:30,  1.77s/it]\u001b[A\u001b[A\n",
      "\n",
      "  7%|▋         | 14/200 [00:23<05:30,  1.78s/it]\u001b[A\u001b[A\n",
      "\n",
      "  8%|▊         | 15/200 [00:25<05:30,  1.79s/it]\u001b[A\u001b[A\n",
      "\n",
      "  8%|▊         | 16/200 [00:26<05:28,  1.78s/it]\u001b[A\u001b[A\n",
      "\n",
      "  8%|▊         | 17/200 [00:28<05:27,  1.79s/it]\u001b[A\u001b[A\n",
      "\n",
      "  9%|▉         | 18/200 [00:30<05:22,  1.77s/it]\u001b[A\u001b[A\n",
      "\n",
      " 10%|▉         | 19/200 [00:32<05:19,  1.76s/it]\u001b[A\u001b[A\n",
      "\n",
      " 10%|█         | 20/200 [00:33<05:15,  1.75s/it]\u001b[A\u001b[A\n",
      "\n",
      " 10%|█         | 21/200 [00:35<05:15,  1.76s/it]\u001b[A\u001b[A\n",
      "\n",
      " 11%|█         | 22/200 [00:37<05:13,  1.76s/it]\u001b[A\u001b[A\n",
      "\n",
      " 12%|█▏        | 23/200 [00:39<05:14,  1.78s/it]\u001b[A\u001b[A\n",
      "\n",
      " 12%|█▏        | 24/200 [00:41<05:11,  1.77s/it]\u001b[A\u001b[A\n",
      "\n",
      " 12%|█▎        | 25/200 [00:42<05:08,  1.76s/it]\u001b[A\u001b[A\n",
      "\n",
      " 13%|█▎        | 26/200 [00:44<05:08,  1.77s/it]\u001b[A\u001b[A\n",
      "\n",
      " 14%|█▎        | 27/200 [00:46<05:07,  1.78s/it]\u001b[A\u001b[A\n",
      "\n",
      " 14%|█▍        | 28/200 [00:48<05:06,  1.78s/it]\u001b[A\u001b[A\n",
      "\n",
      " 14%|█▍        | 29/200 [00:50<05:04,  1.78s/it]\u001b[A\u001b[A\n",
      "\n",
      " 15%|█▌        | 30/200 [00:51<05:00,  1.77s/it]\u001b[A\u001b[A\n",
      "\n",
      " 16%|█▌        | 31/200 [00:53<04:58,  1.76s/it]\u001b[A\u001b[A\n",
      "\n",
      " 16%|█▌        | 32/200 [00:55<04:57,  1.77s/it]\u001b[A\u001b[A\n",
      "\n",
      " 16%|█▋        | 33/200 [00:57<04:57,  1.78s/it]\u001b[A\u001b[A\n",
      "\n",
      " 17%|█▋        | 34/200 [00:58<04:55,  1.78s/it]\u001b[A\u001b[A\n",
      "\n",
      " 18%|█▊        | 35/200 [01:00<04:56,  1.80s/it]\u001b[A\u001b[A\n",
      "\n",
      " 18%|█▊        | 36/200 [01:02<04:56,  1.81s/it]\u001b[A\u001b[A\n",
      "\n",
      " 18%|█▊        | 37/200 [01:04<04:57,  1.82s/it]\u001b[A\u001b[A\n",
      "\n",
      " 19%|█▉        | 38/200 [01:06<04:57,  1.84s/it]\u001b[A\u001b[A\n",
      "\n",
      " 20%|█▉        | 39/200 [01:08<04:58,  1.86s/it]\u001b[A\u001b[A\n",
      "\n",
      " 20%|██        | 40/200 [01:10<04:57,  1.86s/it]\u001b[A\u001b[A\n",
      "\n",
      " 20%|██        | 41/200 [01:11<04:56,  1.87s/it]\u001b[A\u001b[A\n",
      "\n",
      " 21%|██        | 42/200 [01:13<04:55,  1.87s/it]\u001b[A\u001b[A\n",
      "\n",
      " 22%|██▏       | 43/200 [01:15<04:53,  1.87s/it]\u001b[A\u001b[A\n",
      "\n",
      " 22%|██▏       | 44/200 [01:17<04:51,  1.87s/it]\u001b[A\u001b[A\n",
      "\n",
      " 22%|██▎       | 45/200 [01:19<04:50,  1.87s/it]\u001b[A\u001b[A\n",
      "\n",
      " 23%|██▎       | 46/200 [01:21<04:48,  1.88s/it]\u001b[A\u001b[A\n",
      "\n",
      " 24%|██▎       | 47/200 [01:23<04:47,  1.88s/it]\u001b[A\u001b[A\n",
      "\n",
      " 24%|██▍       | 48/200 [01:25<04:45,  1.88s/it]\u001b[A\u001b[A\n",
      "\n",
      " 24%|██▍       | 49/200 [01:26<04:43,  1.87s/it]\u001b[A\u001b[A\n",
      "\n",
      " 25%|██▌       | 50/200 [01:28<04:43,  1.89s/it]\u001b[A\u001b[A\n",
      "\n",
      " 26%|██▌       | 51/200 [01:30<04:40,  1.88s/it]\u001b[A\u001b[A"
     ]
    },
    {
     "name": "stdout",
     "output_type": "stream",
     "text": [
      "Epoch:  50 Loss:  [0.2639880620863224]\n"
     ]
    },
    {
     "name": "stderr",
     "output_type": "stream",
     "text": [
      "\n",
      "\n",
      " 26%|██▌       | 52/200 [01:32<04:40,  1.90s/it]\u001b[A\u001b[A\n",
      "\n",
      " 26%|██▋       | 53/200 [01:34<04:43,  1.93s/it]\u001b[A\u001b[A\n",
      "\n",
      " 27%|██▋       | 54/200 [01:36<04:39,  1.91s/it]\u001b[A\u001b[A\n",
      "\n",
      " 28%|██▊       | 55/200 [01:38<04:39,  1.93s/it]\u001b[A\u001b[A\n",
      "\n",
      " 28%|██▊       | 56/200 [01:40<04:38,  1.93s/it]\u001b[A\u001b[A\n",
      "\n",
      " 28%|██▊       | 57/200 [01:42<04:38,  1.95s/it]\u001b[A\u001b[A\n",
      "\n",
      " 29%|██▉       | 58/200 [01:44<04:36,  1.95s/it]\u001b[A\u001b[A\n",
      "\n",
      " 30%|██▉       | 59/200 [01:46<04:32,  1.93s/it]\u001b[A\u001b[A\n",
      "\n",
      " 30%|███       | 60/200 [01:48<04:35,  1.97s/it]\u001b[A\u001b[A\n",
      "\n",
      " 30%|███       | 61/200 [01:50<04:39,  2.01s/it]\u001b[A\u001b[A\n",
      "\n",
      " 31%|███       | 62/200 [01:52<04:35,  2.00s/it]\u001b[A\u001b[A\n",
      "\n",
      " 32%|███▏      | 63/200 [01:54<04:32,  1.99s/it]\u001b[A\u001b[A\n",
      "\n",
      " 32%|███▏      | 64/200 [01:56<04:32,  2.00s/it]\u001b[A\u001b[A\n",
      "\n",
      " 32%|███▎      | 65/200 [01:58<04:31,  2.01s/it]\u001b[A\u001b[A\n",
      "\n",
      " 33%|███▎      | 66/200 [02:00<04:27,  2.00s/it]\u001b[A\u001b[A\n",
      "\n",
      " 34%|███▎      | 67/200 [02:02<04:20,  1.96s/it]\u001b[A\u001b[A\n",
      "\n",
      " 34%|███▍      | 68/200 [02:04<04:16,  1.94s/it]\u001b[A\u001b[A\n",
      "\n",
      " 34%|███▍      | 69/200 [02:06<04:11,  1.92s/it]\u001b[A\u001b[A\n",
      "\n",
      " 35%|███▌      | 70/200 [02:07<04:08,  1.91s/it]\u001b[A\u001b[A\n",
      "\n",
      " 36%|███▌      | 71/200 [02:09<04:10,  1.94s/it]\u001b[A\u001b[A\n",
      "\n",
      " 36%|███▌      | 72/200 [02:11<04:09,  1.95s/it]\u001b[A\u001b[A\n",
      "\n",
      " 36%|███▋      | 73/200 [02:13<04:03,  1.92s/it]\u001b[A\u001b[A\n",
      "\n",
      " 37%|███▋      | 74/200 [02:15<03:59,  1.90s/it]\u001b[A\u001b[A\n",
      "\n",
      " 38%|███▊      | 75/200 [02:17<03:59,  1.91s/it]\u001b[A\u001b[A\n",
      "\n",
      " 38%|███▊      | 76/200 [02:19<04:00,  1.94s/it]\u001b[A\u001b[A\n",
      "\n",
      " 38%|███▊      | 77/200 [02:21<04:03,  1.98s/it]\u001b[A\u001b[A\n",
      "\n",
      " 39%|███▉      | 78/200 [02:23<04:01,  1.98s/it]\u001b[A\u001b[A\n",
      "\n",
      " 40%|███▉      | 79/200 [02:25<03:59,  1.98s/it]\u001b[A\u001b[A\n",
      "\n",
      " 40%|████      | 80/200 [02:27<03:56,  1.97s/it]\u001b[A\u001b[A\n",
      "\n",
      " 40%|████      | 81/200 [02:29<03:52,  1.95s/it]\u001b[A\u001b[A\n",
      "\n",
      " 41%|████      | 82/200 [02:31<03:52,  1.97s/it]\u001b[A\u001b[A\n",
      "\n",
      " 42%|████▏     | 83/200 [02:33<03:49,  1.96s/it]\u001b[A\u001b[A\n",
      "\n",
      " 42%|████▏     | 84/200 [02:35<03:44,  1.93s/it]\u001b[A\u001b[A\n",
      "\n",
      " 42%|████▎     | 85/200 [02:37<03:40,  1.91s/it]\u001b[A\u001b[A\n",
      "\n",
      " 43%|████▎     | 86/200 [02:38<03:36,  1.90s/it]\u001b[A\u001b[A\n",
      "\n",
      " 44%|████▎     | 87/200 [02:40<03:33,  1.89s/it]\u001b[A\u001b[A\n",
      "\n",
      " 44%|████▍     | 88/200 [02:42<03:30,  1.88s/it]\u001b[A\u001b[A\n",
      "\n",
      " 44%|████▍     | 89/200 [02:44<03:28,  1.87s/it]\u001b[A\u001b[A\n",
      "\n",
      " 45%|████▌     | 90/200 [02:46<03:26,  1.88s/it]\u001b[A\u001b[A\n",
      "\n",
      " 46%|████▌     | 91/200 [02:48<03:25,  1.88s/it]\u001b[A\u001b[A\n",
      "\n",
      " 46%|████▌     | 92/200 [02:50<03:25,  1.90s/it]\u001b[A\u001b[A\n",
      "\n",
      " 46%|████▋     | 93/200 [02:52<03:22,  1.89s/it]\u001b[A\u001b[A\n",
      "\n",
      " 47%|████▋     | 94/200 [02:53<03:18,  1.88s/it]\u001b[A\u001b[A\n",
      "\n",
      " 48%|████▊     | 95/200 [02:55<03:16,  1.87s/it]\u001b[A\u001b[A\n",
      "\n",
      " 48%|████▊     | 96/200 [02:57<03:13,  1.86s/it]\u001b[A\u001b[A\n",
      "\n",
      " 48%|████▊     | 97/200 [02:59<03:14,  1.89s/it]\u001b[A\u001b[A\n",
      "\n",
      " 49%|████▉     | 98/200 [03:01<03:10,  1.87s/it]\u001b[A\u001b[A\n",
      "\n",
      " 50%|████▉     | 99/200 [03:03<03:13,  1.91s/it]\u001b[A\u001b[A\n",
      "\n",
      " 50%|█████     | 100/200 [03:05<03:14,  1.94s/it]\u001b[A\u001b[A\n",
      "\n",
      " 50%|█████     | 101/200 [03:07<03:12,  1.94s/it]\u001b[A\u001b[A"
     ]
    },
    {
     "name": "stdout",
     "output_type": "stream",
     "text": [
      "Epoch:  100 Loss:  [0.20702944021253386]\n"
     ]
    },
    {
     "name": "stderr",
     "output_type": "stream",
     "text": [
      "\n",
      "\n",
      " 51%|█████     | 102/200 [03:09<03:09,  1.93s/it]\u001b[A\u001b[A\n",
      "\n",
      " 52%|█████▏    | 103/200 [03:11<03:06,  1.92s/it]\u001b[A\u001b[A\n",
      "\n",
      " 52%|█████▏    | 104/200 [03:13<03:08,  1.96s/it]\u001b[A\u001b[A\n",
      "\n",
      " 52%|█████▎    | 105/200 [03:15<03:09,  2.00s/it]\u001b[A\u001b[A\n",
      "\n",
      " 53%|█████▎    | 106/200 [03:17<03:06,  1.99s/it]\u001b[A\u001b[A\n",
      "\n",
      " 54%|█████▎    | 107/200 [03:19<03:03,  1.98s/it]\u001b[A\u001b[A\n",
      "\n",
      " 54%|█████▍    | 108/200 [03:21<03:02,  1.98s/it]\u001b[A\u001b[A\n",
      "\n",
      " 55%|█████▍    | 109/200 [03:23<02:59,  1.98s/it]\u001b[A\u001b[A\n",
      "\n",
      " 55%|█████▌    | 110/200 [03:25<02:56,  1.96s/it]\u001b[A\u001b[A\n",
      "\n",
      " 56%|█████▌    | 111/200 [03:27<02:56,  1.98s/it]\u001b[A\u001b[A\n",
      "\n",
      " 56%|█████▌    | 112/200 [03:29<02:52,  1.96s/it]\u001b[A\u001b[A\n",
      "\n",
      " 56%|█████▋    | 113/200 [03:31<02:49,  1.95s/it]\u001b[A\u001b[A\n",
      "\n",
      " 57%|█████▋    | 114/200 [03:32<02:46,  1.94s/it]\u001b[A\u001b[A\n",
      "\n",
      " 57%|█████▊    | 115/200 [03:34<02:43,  1.92s/it]\u001b[A\u001b[A\n",
      "\n",
      " 58%|█████▊    | 116/200 [03:36<02:42,  1.93s/it]\u001b[A\u001b[A\n",
      "\n",
      " 58%|█████▊    | 117/200 [03:38<02:41,  1.95s/it]\u001b[A\u001b[A\n",
      "\n",
      " 59%|█████▉    | 118/200 [03:40<02:40,  1.96s/it]\u001b[A\u001b[A\n",
      "\n",
      " 60%|█████▉    | 119/200 [03:42<02:39,  1.97s/it]\u001b[A\u001b[A\n",
      "\n",
      " 60%|██████    | 120/200 [03:44<02:38,  1.98s/it]\u001b[A\u001b[A\n",
      "\n",
      " 60%|██████    | 121/200 [03:46<02:37,  1.99s/it]\u001b[A\u001b[A\n",
      "\n",
      " 61%|██████    | 122/200 [03:48<02:37,  2.02s/it]\u001b[A\u001b[A\n",
      "\n",
      " 62%|██████▏   | 123/200 [03:50<02:35,  2.01s/it]\u001b[A\u001b[A\n",
      "\n",
      " 62%|██████▏   | 124/200 [03:52<02:31,  1.99s/it]\u001b[A\u001b[A\n",
      "\n",
      " 62%|██████▎   | 125/200 [03:54<02:28,  1.98s/it]\u001b[A\u001b[A\n",
      "\n",
      " 63%|██████▎   | 126/200 [03:56<02:26,  1.98s/it]\u001b[A\u001b[A\n",
      "\n",
      " 64%|██████▎   | 127/200 [03:58<02:24,  1.98s/it]\u001b[A\u001b[A\n",
      "\n",
      " 64%|██████▍   | 128/200 [04:00<02:22,  1.98s/it]\u001b[A\u001b[A\n",
      "\n",
      " 64%|██████▍   | 129/200 [04:02<02:21,  1.99s/it]\u001b[A\u001b[A\n",
      "\n",
      " 65%|██████▌   | 130/200 [04:04<02:20,  2.00s/it]\u001b[A\u001b[A\n",
      "\n",
      " 66%|██████▌   | 131/200 [04:06<02:17,  2.00s/it]\u001b[A\u001b[A\n",
      "\n",
      " 66%|██████▌   | 132/200 [04:08<02:15,  1.99s/it]\u001b[A\u001b[A\n",
      "\n",
      " 66%|██████▋   | 133/200 [04:10<02:14,  2.00s/it]\u001b[A\u001b[A\n",
      "\n",
      " 67%|██████▋   | 134/200 [04:12<02:13,  2.03s/it]\u001b[A\u001b[A\n",
      "\n",
      " 68%|██████▊   | 135/200 [04:14<02:13,  2.05s/it]\u001b[A\u001b[A\n",
      "\n",
      " 68%|██████▊   | 136/200 [04:17<02:12,  2.07s/it]\u001b[A\u001b[A\n",
      "\n",
      " 68%|██████▊   | 137/200 [04:19<02:10,  2.07s/it]\u001b[A\u001b[A\n",
      "\n",
      " 69%|██████▉   | 138/200 [04:21<02:08,  2.07s/it]\u001b[A\u001b[A\n",
      "\n",
      " 70%|██████▉   | 139/200 [04:23<02:08,  2.11s/it]\u001b[A\u001b[A\n",
      "\n",
      " 70%|███████   | 140/200 [04:25<02:09,  2.16s/it]\u001b[A\u001b[A\n",
      "\n",
      " 70%|███████   | 141/200 [04:27<02:06,  2.14s/it]\u001b[A\u001b[A\n",
      "\n",
      " 71%|███████   | 142/200 [04:29<02:03,  2.13s/it]\u001b[A\u001b[A\n",
      "\n",
      " 72%|███████▏  | 143/200 [04:31<02:00,  2.12s/it]\u001b[A\u001b[A\n",
      "\n",
      " 72%|███████▏  | 144/200 [04:34<01:58,  2.12s/it]\u001b[A\u001b[A\n",
      "\n",
      " 72%|███████▎  | 145/200 [04:36<01:56,  2.12s/it]\u001b[A\u001b[A\n",
      "\n",
      " 73%|███████▎  | 146/200 [04:38<01:55,  2.13s/it]\u001b[A\u001b[A\n",
      "\n",
      " 74%|███████▎  | 147/200 [04:40<01:52,  2.13s/it]\u001b[A\u001b[A\n",
      "\n",
      " 74%|███████▍  | 148/200 [04:42<01:49,  2.11s/it]\u001b[A\u001b[A\n",
      "\n",
      " 74%|███████▍  | 149/200 [04:44<01:46,  2.09s/it]\u001b[A\u001b[A\n",
      "\n",
      " 75%|███████▌  | 150/200 [04:46<01:43,  2.07s/it]\u001b[A\u001b[A\n",
      "\n",
      " 76%|███████▌  | 151/200 [04:48<01:43,  2.11s/it]\u001b[A\u001b[A"
     ]
    },
    {
     "name": "stdout",
     "output_type": "stream",
     "text": [
      "Epoch:  150 Loss:  [0.19249541227678618]\n"
     ]
    },
    {
     "name": "stderr",
     "output_type": "stream",
     "text": [
      "\n",
      "\n",
      " 76%|███████▌  | 152/200 [04:50<01:41,  2.12s/it]\u001b[A\u001b[A\n",
      "\n",
      " 76%|███████▋  | 153/200 [04:53<01:39,  2.11s/it]\u001b[A\u001b[A\n",
      "\n",
      " 77%|███████▋  | 154/200 [04:55<01:37,  2.13s/it]\u001b[A\u001b[A\n",
      "\n",
      " 78%|███████▊  | 155/200 [04:57<01:38,  2.18s/it]\u001b[A\u001b[A\n",
      "\n",
      " 78%|███████▊  | 156/200 [04:59<01:35,  2.16s/it]\u001b[A\u001b[A\n",
      "\n",
      " 78%|███████▊  | 157/200 [05:01<01:32,  2.14s/it]\u001b[A\u001b[A\n",
      "\n",
      " 79%|███████▉  | 158/200 [05:03<01:28,  2.11s/it]\u001b[A\u001b[A\n",
      "\n",
      " 80%|███████▉  | 159/200 [05:05<01:26,  2.10s/it]\u001b[A\u001b[A\n",
      "\n",
      " 80%|████████  | 160/200 [05:07<01:23,  2.10s/it]\u001b[A\u001b[A\n",
      "\n",
      " 80%|████████  | 161/200 [05:10<01:21,  2.10s/it]\u001b[A\u001b[A\n",
      "\n",
      " 81%|████████  | 162/200 [05:12<01:19,  2.09s/it]\u001b[A\u001b[A\n",
      "\n",
      " 82%|████████▏ | 163/200 [05:14<01:17,  2.09s/it]\u001b[A\u001b[A\n",
      "\n",
      " 82%|████████▏ | 164/200 [05:16<01:15,  2.09s/it]\u001b[A\u001b[A\n",
      "\n",
      " 82%|████████▎ | 165/200 [05:18<01:13,  2.10s/it]\u001b[A\u001b[A\n",
      "\n",
      " 83%|████████▎ | 166/200 [05:20<01:11,  2.10s/it]\u001b[A\u001b[A\n",
      "\n",
      " 84%|████████▎ | 167/200 [05:22<01:08,  2.08s/it]\u001b[A\u001b[A\n",
      "\n",
      " 84%|████████▍ | 168/200 [05:24<01:06,  2.09s/it]\u001b[A\u001b[A\n",
      "\n",
      " 84%|████████▍ | 169/200 [05:26<01:05,  2.10s/it]\u001b[A\u001b[A\n",
      "\n",
      " 85%|████████▌ | 170/200 [05:28<01:03,  2.11s/it]\u001b[A\u001b[A\n",
      "\n",
      " 86%|████████▌ | 171/200 [05:30<01:00,  2.09s/it]\u001b[A\u001b[A\n",
      "\n",
      " 86%|████████▌ | 172/200 [05:33<00:58,  2.09s/it]\u001b[A\u001b[A\n",
      "\n",
      " 86%|████████▋ | 173/200 [05:35<00:56,  2.09s/it]\u001b[A\u001b[A\n",
      "\n",
      " 87%|████████▋ | 174/200 [05:37<00:54,  2.08s/it]\u001b[A\u001b[A\n",
      "\n",
      " 88%|████████▊ | 175/200 [05:39<00:52,  2.10s/it]\u001b[A\u001b[A\n",
      "\n",
      " 88%|████████▊ | 176/200 [05:41<00:50,  2.11s/it]\u001b[A\u001b[A\n",
      "\n",
      " 88%|████████▊ | 177/200 [05:43<00:48,  2.11s/it]\u001b[A\u001b[A\n",
      "\n",
      " 89%|████████▉ | 178/200 [05:45<00:46,  2.13s/it]\u001b[A\u001b[A\n",
      "\n",
      " 90%|████████▉ | 179/200 [05:47<00:44,  2.14s/it]\u001b[A\u001b[A\n",
      "\n",
      " 90%|█████████ | 180/200 [05:50<00:42,  2.13s/it]\u001b[A\u001b[A\n",
      "\n",
      " 90%|█████████ | 181/200 [05:52<00:40,  2.13s/it]\u001b[A\u001b[A\n",
      "\n",
      " 91%|█████████ | 182/200 [05:54<00:38,  2.13s/it]\u001b[A\u001b[A\n",
      "\n",
      " 92%|█████████▏| 183/200 [05:56<00:35,  2.12s/it]\u001b[A\u001b[A\n",
      "\n",
      " 92%|█████████▏| 184/200 [05:58<00:33,  2.12s/it]\u001b[A\u001b[A\n",
      "\n",
      " 92%|█████████▎| 185/200 [06:00<00:31,  2.12s/it]\u001b[A\u001b[A\n",
      "\n",
      " 93%|█████████▎| 186/200 [06:02<00:29,  2.11s/it]\u001b[A\u001b[A\n",
      "\n",
      " 94%|█████████▎| 187/200 [06:04<00:27,  2.11s/it]\u001b[A\u001b[A\n",
      "\n",
      " 94%|█████████▍| 188/200 [06:06<00:25,  2.10s/it]\u001b[A\u001b[A\n",
      "\n",
      " 94%|█████████▍| 189/200 [06:09<00:23,  2.11s/it]\u001b[A\u001b[A\n",
      "\n",
      " 95%|█████████▌| 190/200 [06:11<00:21,  2.11s/it]\u001b[A\u001b[A\n",
      "\n",
      " 96%|█████████▌| 191/200 [06:13<00:19,  2.12s/it]\u001b[A\u001b[A\n",
      "\n",
      " 96%|█████████▌| 192/200 [06:15<00:16,  2.12s/it]\u001b[A\u001b[A\n",
      "\n",
      " 96%|█████████▋| 193/200 [06:17<00:14,  2.11s/it]\u001b[A\u001b[A\n",
      "\n",
      " 97%|█████████▋| 194/200 [06:19<00:12,  2.10s/it]\u001b[A\u001b[A\n",
      "\n",
      " 98%|█████████▊| 195/200 [06:21<00:10,  2.11s/it]\u001b[A\u001b[A\n",
      "\n",
      " 98%|█████████▊| 196/200 [06:23<00:08,  2.12s/it]\u001b[A\u001b[A\n",
      "\n",
      " 98%|█████████▊| 197/200 [06:25<00:06,  2.11s/it]\u001b[A\u001b[A\n",
      "\n",
      " 99%|█████████▉| 198/200 [06:28<00:04,  2.12s/it]\u001b[A\u001b[A\n",
      "\n",
      "100%|█████████▉| 199/200 [06:30<00:02,  2.11s/it]\u001b[A\u001b[A\n",
      "\n",
      "100%|██████████| 200/200 [06:32<00:00,  2.15s/it]\u001b[A\u001b[A"
     ]
    },
    {
     "name": "stdout",
     "output_type": "stream",
     "text": [
      "Training Loss:  0.1956017905915056\n",
      "Done Training\n"
     ]
    }
   ],
   "source": [
    "in_features = train_loader_.dataset.tensors[0].shape[-1]\n",
    "model_ = BinaryClassifier(in_features)\n",
    "criterion = nn.BCEWithLogitsLoss()\n",
    "optimizer = optim.Adam(model_.parameters())\n",
    "num_epoch = 200\n",
    "\n",
    "train_model_(model_, criterion, optimizer, train_loader_, num_epoch)"
   ]
  },
  {
   "cell_type": "code",
   "execution_count": 76,
   "metadata": {
    "collapsed": false
   },
   "outputs": [
    {
     "name": "stdout",
     "output_type": "stream",
     "text": [
      "Test accuracy is:  0.8108838523432221\n",
      "Reweighted accuracy is:  0.7772180470668089\n"
     ]
    }
   ],
   "source": [
    "test_model_(model_, test_loader_)"
   ]
  },
  {
   "cell_type": "markdown",
   "metadata": {},
   "source": [
    "#### **Retraining and evaluating without attributes of high correlation with gender**"
   ]
  },
  {
   "cell_type": "code",
   "execution_count": 77,
   "metadata": {
    "collapsed": true
   },
   "outputs": [],
   "source": [
    "train_data_ws_  = PandasDF(train_ws, train_data_Y, train_data_A)\n",
    "train_loader_ws = DataLoader(train_data_ws_, batch_size = 64, shuffle = True, drop_last = True) \n",
    "test_data_ws_  = PandasDF(test_ws, test_data_Y, test_data_A)\n",
    "test_loader_ws_ = DataLoader(test_data_ws_, batch_size = 64, shuffle = True, drop_last = False) "
   ]
  },
  {
   "cell_type": "code",
   "execution_count": 78,
   "metadata": {
    "collapsed": false
   },
   "outputs": [
    {
     "name": "stderr",
     "output_type": "stream",
     "text": [
      "\n",
      "\n",
      "  0%|          | 0/200 [00:00<?, ?it/s]\u001b[A\u001b[A\n",
      "\n",
      "  0%|          | 1/200 [00:01<04:06,  1.24s/it]\u001b[A\u001b[A"
     ]
    },
    {
     "name": "stdout",
     "output_type": "stream",
     "text": [
      "Epoch:  0 Loss:  [0.5937219917735751]\n"
     ]
    },
    {
     "name": "stderr",
     "output_type": "stream",
     "text": [
      "\n",
      "\n",
      "  1%|          | 2/200 [00:02<04:15,  1.29s/it]\u001b[A\u001b[A\n",
      "\n",
      "  2%|▏         | 3/200 [00:04<04:31,  1.38s/it]\u001b[A\u001b[A\n",
      "\n",
      "  2%|▏         | 4/200 [00:05<04:45,  1.45s/it]\u001b[A\u001b[A\n",
      "\n",
      "  2%|▎         | 5/200 [00:07<04:52,  1.50s/it]\u001b[A\u001b[A\n",
      "\n",
      "  3%|▎         | 6/200 [00:09<05:02,  1.56s/it]\u001b[A\u001b[A\n",
      "\n",
      "  4%|▎         | 7/200 [00:10<05:11,  1.61s/it]\u001b[A\u001b[A\n",
      "\n",
      "  4%|▍         | 8/200 [00:12<05:10,  1.62s/it]\u001b[A\u001b[A\n",
      "\n",
      "  4%|▍         | 9/200 [00:14<05:11,  1.63s/it]\u001b[A\u001b[A\n",
      "\n",
      "  5%|▌         | 10/200 [00:15<05:17,  1.67s/it]\u001b[A\u001b[A\n",
      "\n",
      "  6%|▌         | 11/200 [00:17<05:18,  1.68s/it]\u001b[A\u001b[A\n",
      "\n",
      "  6%|▌         | 12/200 [00:19<05:20,  1.70s/it]\u001b[A\u001b[A\n",
      "\n",
      "  6%|▋         | 13/200 [00:21<05:19,  1.71s/it]\u001b[A\u001b[A\n",
      "\n",
      "  7%|▋         | 14/200 [00:22<05:19,  1.72s/it]\u001b[A\u001b[A\n",
      "\n",
      "  8%|▊         | 15/200 [00:24<05:23,  1.75s/it]\u001b[A\u001b[A\n",
      "\n",
      "  8%|▊         | 16/200 [00:26<05:26,  1.77s/it]\u001b[A\u001b[A\n",
      "\n",
      "  8%|▊         | 17/200 [00:28<05:25,  1.78s/it]\u001b[A\u001b[A\n",
      "\n",
      "  9%|▉         | 18/200 [00:30<05:27,  1.80s/it]\u001b[A\u001b[A\n",
      "\n",
      " 10%|▉         | 19/200 [00:32<05:31,  1.83s/it]\u001b[A\u001b[A\n",
      "\n",
      " 10%|█         | 20/200 [00:34<05:38,  1.88s/it]\u001b[A\u001b[A\n",
      "\n",
      " 10%|█         | 21/200 [00:36<05:45,  1.93s/it]\u001b[A\u001b[A\n",
      "\n",
      " 11%|█         | 22/200 [00:38<05:45,  1.94s/it]\u001b[A\u001b[A\n",
      "\n",
      " 12%|█▏        | 23/200 [00:40<05:42,  1.94s/it]\u001b[A\u001b[A\n",
      "\n",
      " 12%|█▏        | 24/200 [00:41<05:41,  1.94s/it]\u001b[A\u001b[A\n",
      "\n",
      " 12%|█▎        | 25/200 [00:43<05:39,  1.94s/it]\u001b[A\u001b[A\n",
      "\n",
      " 13%|█▎        | 26/200 [00:45<05:35,  1.93s/it]\u001b[A\u001b[A\n",
      "\n",
      " 14%|█▎        | 27/200 [00:47<05:34,  1.94s/it]\u001b[A\u001b[A\n",
      "\n",
      " 14%|█▍        | 28/200 [00:49<05:32,  1.93s/it]\u001b[A\u001b[A\n",
      "\n",
      " 14%|█▍        | 29/200 [00:51<05:30,  1.93s/it]\u001b[A\u001b[A\n",
      "\n",
      " 15%|█▌        | 30/200 [00:53<05:31,  1.95s/it]\u001b[A\u001b[A\n",
      "\n",
      " 16%|█▌        | 31/200 [00:55<05:31,  1.96s/it]\u001b[A\u001b[A\n",
      "\n",
      " 16%|█▌        | 32/200 [00:57<05:25,  1.93s/it]\u001b[A\u001b[A\n",
      "\n",
      " 16%|█▋        | 33/200 [00:59<05:23,  1.94s/it]\u001b[A\u001b[A\n",
      "\n",
      " 17%|█▋        | 34/200 [01:01<05:24,  1.96s/it]\u001b[A\u001b[A\n",
      "\n",
      " 18%|█▊        | 35/200 [01:03<05:21,  1.95s/it]\u001b[A\u001b[A\n",
      "\n",
      " 18%|█▊        | 36/200 [01:05<05:18,  1.94s/it]\u001b[A\u001b[A\n",
      "\n",
      " 18%|█▊        | 37/200 [01:07<05:15,  1.94s/it]\u001b[A\u001b[A\n",
      "\n",
      " 19%|█▉        | 38/200 [01:09<05:18,  1.96s/it]\u001b[A\u001b[A\n",
      "\n",
      " 20%|█▉        | 39/200 [01:11<05:19,  1.99s/it]\u001b[A\u001b[A\n",
      "\n",
      " 20%|██        | 40/200 [01:13<05:17,  1.99s/it]\u001b[A\u001b[A\n",
      "\n",
      " 20%|██        | 41/200 [01:15<05:21,  2.02s/it]\u001b[A\u001b[A\n",
      "\n",
      " 21%|██        | 42/200 [01:17<05:26,  2.07s/it]\u001b[A\u001b[A\n",
      "\n",
      " 22%|██▏       | 43/200 [01:19<05:32,  2.12s/it]\u001b[A\u001b[A\n",
      "\n",
      " 22%|██▏       | 44/200 [01:21<05:28,  2.10s/it]\u001b[A\u001b[A\n",
      "\n",
      " 22%|██▎       | 45/200 [01:23<05:22,  2.08s/it]\u001b[A\u001b[A\n",
      "\n",
      " 23%|██▎       | 46/200 [01:25<05:14,  2.04s/it]\u001b[A\u001b[A\n",
      "\n",
      " 24%|██▎       | 47/200 [01:27<05:10,  2.03s/it]\u001b[A\u001b[A\n",
      "\n",
      " 24%|██▍       | 48/200 [01:29<05:07,  2.03s/it]\u001b[A\u001b[A\n",
      "\n",
      " 24%|██▍       | 49/200 [01:31<05:03,  2.01s/it]\u001b[A\u001b[A\n",
      "\n",
      " 25%|██▌       | 50/200 [01:33<05:00,  2.01s/it]\u001b[A\u001b[A\n",
      "\n",
      " 26%|██▌       | 51/200 [01:35<04:59,  2.01s/it]\u001b[A\u001b[A"
     ]
    },
    {
     "name": "stdout",
     "output_type": "stream",
     "text": [
      "Epoch:  50 Loss:  [0.40415594553699213]\n"
     ]
    },
    {
     "name": "stderr",
     "output_type": "stream",
     "text": [
      "\n",
      "\n",
      " 26%|██▌       | 52/200 [01:37<05:04,  2.06s/it]\u001b[A\u001b[A\n",
      "\n",
      " 26%|██▋       | 53/200 [01:40<05:04,  2.07s/it]\u001b[A\u001b[A\n",
      "\n",
      " 27%|██▋       | 54/200 [01:42<04:59,  2.05s/it]\u001b[A\u001b[A\n",
      "\n",
      " 28%|██▊       | 55/200 [01:44<05:01,  2.08s/it]\u001b[A\u001b[A\n",
      "\n",
      " 28%|██▊       | 56/200 [01:46<04:57,  2.07s/it]\u001b[A\u001b[A\n",
      "\n",
      " 28%|██▊       | 57/200 [01:48<04:53,  2.05s/it]\u001b[A\u001b[A\n",
      "\n",
      " 29%|██▉       | 58/200 [01:50<05:12,  2.20s/it]\u001b[A\u001b[A\n",
      "\n",
      " 30%|██▉       | 59/200 [01:53<05:33,  2.37s/it]\u001b[A\u001b[A\n",
      "\n",
      " 30%|███       | 60/200 [01:55<05:20,  2.29s/it]\u001b[A\u001b[A\n",
      "\n",
      " 30%|███       | 61/200 [01:57<05:11,  2.24s/it]\u001b[A\u001b[A\n",
      "\n",
      " 31%|███       | 62/200 [01:59<05:00,  2.18s/it]\u001b[A\u001b[A\n",
      "\n",
      " 32%|███▏      | 63/200 [02:02<04:56,  2.16s/it]\u001b[A\u001b[A\n",
      "\n",
      " 32%|███▏      | 64/200 [02:04<04:47,  2.12s/it]\u001b[A\u001b[A\n",
      "\n",
      " 32%|███▎      | 65/200 [02:05<04:39,  2.07s/it]\u001b[A\u001b[A\n",
      "\n",
      " 33%|███▎      | 66/200 [02:07<04:35,  2.05s/it]\u001b[A\u001b[A\n",
      "\n",
      " 34%|███▎      | 67/200 [02:09<04:28,  2.02s/it]\u001b[A\u001b[A\n",
      "\n",
      " 34%|███▍      | 68/200 [02:11<04:24,  2.00s/it]\u001b[A\u001b[A\n",
      "\n",
      " 34%|███▍      | 69/200 [02:13<04:20,  1.99s/it]\u001b[A\u001b[A\n",
      "\n",
      " 35%|███▌      | 70/200 [02:15<04:18,  1.99s/it]\u001b[A\u001b[A\n",
      "\n",
      " 36%|███▌      | 71/200 [02:17<04:16,  1.99s/it]\u001b[A\u001b[A\n",
      "\n",
      " 36%|███▌      | 72/200 [02:19<04:15,  1.99s/it]\u001b[A\u001b[A\n",
      "\n",
      " 36%|███▋      | 73/200 [02:21<04:11,  1.98s/it]\u001b[A\u001b[A\n",
      "\n",
      " 37%|███▋      | 74/200 [02:23<04:09,  1.98s/it]\u001b[A\u001b[A\n",
      "\n",
      " 38%|███▊      | 75/200 [02:25<04:07,  1.98s/it]\u001b[A\u001b[A\n",
      "\n",
      " 38%|███▊      | 76/200 [02:27<04:05,  1.98s/it]\u001b[A\u001b[A\n",
      "\n",
      " 38%|███▊      | 77/200 [02:29<04:04,  1.99s/it]\u001b[A\u001b[A\n",
      "\n",
      " 39%|███▉      | 78/200 [02:31<04:03,  2.00s/it]\u001b[A\u001b[A\n",
      "\n",
      " 40%|███▉      | 79/200 [02:33<04:02,  2.00s/it]\u001b[A\u001b[A\n",
      "\n",
      " 40%|████      | 80/200 [02:35<04:00,  2.00s/it]\u001b[A\u001b[A\n",
      "\n",
      " 40%|████      | 81/200 [02:37<03:58,  2.00s/it]\u001b[A\u001b[A\n",
      "\n",
      " 41%|████      | 82/200 [02:39<03:56,  2.01s/it]\u001b[A\u001b[A\n",
      "\n",
      " 42%|████▏     | 83/200 [02:41<03:53,  1.99s/it]\u001b[A\u001b[A\n",
      "\n",
      " 42%|████▏     | 84/200 [02:43<03:53,  2.01s/it]\u001b[A\u001b[A\n",
      "\n",
      " 42%|████▎     | 85/200 [02:45<03:52,  2.02s/it]\u001b[A\u001b[A\n",
      "\n",
      " 43%|████▎     | 86/200 [02:47<03:50,  2.02s/it]\u001b[A\u001b[A\n",
      "\n",
      " 44%|████▎     | 87/200 [02:49<03:48,  2.02s/it]\u001b[A\u001b[A\n",
      "\n",
      " 44%|████▍     | 88/200 [02:51<03:46,  2.02s/it]\u001b[A\u001b[A\n",
      "\n",
      " 44%|████▍     | 89/200 [02:53<03:44,  2.03s/it]\u001b[A\u001b[A\n",
      "\n",
      " 45%|████▌     | 90/200 [02:55<03:41,  2.01s/it]\u001b[A\u001b[A\n",
      "\n",
      " 46%|████▌     | 91/200 [02:57<03:40,  2.02s/it]\u001b[A\u001b[A\n",
      "\n",
      " 46%|████▌     | 92/200 [03:00<03:39,  2.03s/it]\u001b[A\u001b[A\n",
      "\n",
      " 46%|████▋     | 93/200 [03:02<03:38,  2.04s/it]\u001b[A\u001b[A\n",
      "\n",
      " 47%|████▋     | 94/200 [03:04<03:37,  2.06s/it]\u001b[A\u001b[A\n",
      "\n",
      " 48%|████▊     | 95/200 [03:06<03:37,  2.07s/it]\u001b[A\u001b[A\n",
      "\n",
      " 48%|████▊     | 96/200 [03:08<03:36,  2.08s/it]\u001b[A\u001b[A\n",
      "\n",
      " 48%|████▊     | 97/200 [03:10<03:33,  2.07s/it]\u001b[A\u001b[A\n",
      "\n",
      " 49%|████▉     | 98/200 [03:12<03:29,  2.05s/it]\u001b[A\u001b[A\n",
      "\n",
      " 50%|████▉     | 99/200 [03:14<03:27,  2.06s/it]\u001b[A\u001b[A\n",
      "\n",
      " 50%|█████     | 100/200 [03:16<03:24,  2.05s/it]\u001b[A\u001b[A\n",
      "\n",
      " 50%|█████     | 101/200 [03:18<03:22,  2.05s/it]\u001b[A\u001b[A"
     ]
    },
    {
     "name": "stdout",
     "output_type": "stream",
     "text": [
      "Epoch:  100 Loss:  [0.3758932248493335]\n"
     ]
    },
    {
     "name": "stderr",
     "output_type": "stream",
     "text": [
      "\n",
      "\n",
      " 51%|█████     | 102/200 [03:20<03:22,  2.07s/it]\u001b[A\u001b[A\n",
      "\n",
      " 52%|█████▏    | 103/200 [03:22<03:21,  2.08s/it]\u001b[A\u001b[A\n",
      "\n",
      " 52%|█████▏    | 104/200 [03:24<03:19,  2.08s/it]\u001b[A\u001b[A\n",
      "\n",
      " 52%|█████▎    | 105/200 [03:26<03:17,  2.08s/it]\u001b[A\u001b[A\n",
      "\n",
      " 53%|█████▎    | 106/200 [03:29<03:14,  2.07s/it]\u001b[A\u001b[A\n",
      "\n",
      " 54%|█████▎    | 107/200 [03:31<03:13,  2.08s/it]\u001b[A\u001b[A\n",
      "\n",
      " 54%|█████▍    | 108/200 [03:33<03:11,  2.08s/it]\u001b[A\u001b[A\n",
      "\n",
      " 55%|█████▍    | 109/200 [03:35<03:09,  2.08s/it]\u001b[A\u001b[A\n",
      "\n",
      " 55%|█████▌    | 110/200 [03:37<03:06,  2.08s/it]\u001b[A\u001b[A\n",
      "\n",
      " 56%|█████▌    | 111/200 [03:39<03:05,  2.08s/it]\u001b[A\u001b[A\n",
      "\n",
      " 56%|█████▌    | 112/200 [03:41<03:03,  2.09s/it]\u001b[A\u001b[A\n",
      "\n",
      " 56%|█████▋    | 113/200 [03:43<03:01,  2.08s/it]\u001b[A\u001b[A\n",
      "\n",
      " 57%|█████▋    | 114/200 [03:45<02:59,  2.09s/it]\u001b[A\u001b[A\n",
      "\n",
      " 57%|█████▊    | 115/200 [03:47<02:57,  2.09s/it]\u001b[A\u001b[A\n",
      "\n",
      " 58%|█████▊    | 116/200 [03:49<02:56,  2.10s/it]\u001b[A\u001b[A\n",
      "\n",
      " 58%|█████▊    | 117/200 [03:52<02:55,  2.11s/it]\u001b[A\u001b[A\n",
      "\n",
      " 59%|█████▉    | 118/200 [03:54<02:53,  2.12s/it]\u001b[A\u001b[A\n",
      "\n",
      " 60%|█████▉    | 119/200 [03:56<02:51,  2.11s/it]\u001b[A\u001b[A\n",
      "\n",
      " 60%|██████    | 120/200 [03:58<02:48,  2.11s/it]\u001b[A\u001b[A\n",
      "\n",
      " 60%|██████    | 121/200 [04:00<02:47,  2.12s/it]\u001b[A\u001b[A\n",
      "\n",
      " 61%|██████    | 122/200 [04:02<02:45,  2.12s/it]\u001b[A\u001b[A\n",
      "\n",
      " 62%|██████▏   | 123/200 [04:04<02:44,  2.14s/it]\u001b[A\u001b[A\n",
      "\n",
      " 62%|██████▏   | 124/200 [04:07<02:43,  2.16s/it]\u001b[A\u001b[A\n",
      "\n",
      " 62%|██████▎   | 125/200 [04:09<02:42,  2.17s/it]\u001b[A\u001b[A\n",
      "\n",
      " 63%|██████▎   | 126/200 [04:11<02:40,  2.17s/it]\u001b[A\u001b[A\n",
      "\n",
      " 64%|██████▎   | 127/200 [04:13<02:39,  2.18s/it]\u001b[A\u001b[A\n",
      "\n",
      " 64%|██████▍   | 128/200 [04:15<02:36,  2.18s/it]\u001b[A\u001b[A\n",
      "\n",
      " 64%|██████▍   | 129/200 [04:17<02:34,  2.18s/it]\u001b[A\u001b[A\n",
      "\n",
      " 65%|██████▌   | 130/200 [04:20<02:31,  2.17s/it]\u001b[A\u001b[A\n",
      "\n",
      " 66%|██████▌   | 131/200 [04:22<02:30,  2.18s/it]\u001b[A\u001b[A\n",
      "\n",
      " 66%|██████▌   | 132/200 [04:24<02:29,  2.19s/it]\u001b[A\u001b[A\n",
      "\n",
      " 66%|██████▋   | 133/200 [04:26<02:28,  2.21s/it]\u001b[A\u001b[A\n",
      "\n",
      " 67%|██████▋   | 134/200 [04:29<02:26,  2.22s/it]\u001b[A\u001b[A\n",
      "\n",
      " 68%|██████▊   | 135/200 [04:31<02:25,  2.23s/it]\u001b[A\u001b[A\n",
      "\n",
      " 68%|██████▊   | 136/200 [04:33<02:22,  2.23s/it]\u001b[A\u001b[A\n",
      "\n",
      " 68%|██████▊   | 137/200 [04:35<02:21,  2.24s/it]\u001b[A\u001b[A\n",
      "\n",
      " 69%|██████▉   | 138/200 [04:38<02:20,  2.27s/it]\u001b[A\u001b[A\n",
      "\n",
      " 70%|██████▉   | 139/200 [04:40<02:20,  2.30s/it]\u001b[A\u001b[A\n",
      "\n",
      " 70%|███████   | 140/200 [04:42<02:18,  2.31s/it]\u001b[A\u001b[A\n",
      "\n",
      " 70%|███████   | 141/200 [04:45<02:16,  2.32s/it]\u001b[A\u001b[A\n",
      "\n",
      " 71%|███████   | 142/200 [04:47<02:14,  2.32s/it]\u001b[A\u001b[A\n",
      "\n",
      " 72%|███████▏  | 143/200 [04:49<02:12,  2.32s/it]\u001b[A\u001b[A\n",
      "\n",
      " 72%|███████▏  | 144/200 [04:52<02:10,  2.34s/it]\u001b[A\u001b[A\n",
      "\n",
      " 72%|███████▎  | 145/200 [04:54<02:08,  2.34s/it]\u001b[A\u001b[A\n",
      "\n",
      " 73%|███████▎  | 146/200 [04:56<02:05,  2.33s/it]\u001b[A\u001b[A\n",
      "\n",
      " 74%|███████▎  | 147/200 [04:59<02:04,  2.34s/it]\u001b[A\u001b[A\n",
      "\n",
      " 74%|███████▍  | 148/200 [05:01<02:02,  2.36s/it]\u001b[A\u001b[A\n",
      "\n",
      " 74%|███████▍  | 149/200 [05:04<02:01,  2.37s/it]\u001b[A\u001b[A\n",
      "\n",
      " 75%|███████▌  | 150/200 [05:06<01:58,  2.38s/it]\u001b[A\u001b[A\n",
      "\n",
      " 76%|███████▌  | 151/200 [05:08<01:55,  2.36s/it]\u001b[A\u001b[A"
     ]
    },
    {
     "name": "stdout",
     "output_type": "stream",
     "text": [
      "Epoch:  150 Loss:  [0.37139838423037314]\n"
     ]
    },
    {
     "name": "stderr",
     "output_type": "stream",
     "text": [
      "\n",
      "\n",
      " 76%|███████▌  | 152/200 [05:11<01:52,  2.34s/it]\u001b[A\u001b[A\n",
      "\n",
      " 76%|███████▋  | 153/200 [05:13<01:49,  2.32s/it]\u001b[A\u001b[A\n",
      "\n",
      " 77%|███████▋  | 154/200 [05:15<01:46,  2.31s/it]\u001b[A\u001b[A\n",
      "\n",
      " 78%|███████▊  | 155/200 [05:17<01:44,  2.32s/it]\u001b[A\u001b[A\n",
      "\n",
      " 78%|███████▊  | 156/200 [05:20<01:42,  2.32s/it]\u001b[A\u001b[A\n",
      "\n",
      " 78%|███████▊  | 157/200 [05:22<01:39,  2.31s/it]\u001b[A\u001b[A\n",
      "\n",
      " 79%|███████▉  | 158/200 [05:24<01:36,  2.30s/it]\u001b[A\u001b[A\n",
      "\n",
      " 80%|███████▉  | 159/200 [05:27<01:34,  2.30s/it]\u001b[A\u001b[A\n",
      "\n",
      " 80%|████████  | 160/200 [05:29<01:32,  2.31s/it]\u001b[A\u001b[A\n",
      "\n",
      " 80%|████████  | 161/200 [05:31<01:32,  2.36s/it]\u001b[A\u001b[A\n",
      "\n",
      " 81%|████████  | 162/200 [05:34<01:29,  2.35s/it]\u001b[A\u001b[A\n",
      "\n",
      " 82%|████████▏ | 163/200 [05:36<01:27,  2.35s/it]\u001b[A\u001b[A\n",
      "\n",
      " 82%|████████▏ | 164/200 [05:39<01:24,  2.36s/it]\u001b[A\u001b[A\n",
      "\n",
      " 82%|████████▎ | 165/200 [05:41<01:22,  2.37s/it]\u001b[A\u001b[A\n",
      "\n",
      " 83%|████████▎ | 166/200 [05:43<01:20,  2.36s/it]\u001b[A\u001b[A\n",
      "\n",
      " 84%|████████▎ | 167/200 [05:46<01:18,  2.37s/it]\u001b[A\u001b[A\n",
      "\n",
      " 84%|████████▍ | 168/200 [05:48<01:15,  2.37s/it]\u001b[A\u001b[A\n",
      "\n",
      " 84%|████████▍ | 169/200 [05:50<01:13,  2.37s/it]\u001b[A\u001b[A\n",
      "\n",
      " 85%|████████▌ | 170/200 [05:53<01:12,  2.41s/it]\u001b[A\u001b[A\n",
      "\n",
      " 86%|████████▌ | 171/200 [05:55<01:09,  2.40s/it]\u001b[A\u001b[A\n",
      "\n",
      " 86%|████████▌ | 172/200 [05:58<01:06,  2.39s/it]\u001b[A\u001b[A\n",
      "\n",
      " 86%|████████▋ | 173/200 [06:00<01:04,  2.38s/it]\u001b[A\u001b[A\n",
      "\n",
      " 87%|████████▋ | 174/200 [06:02<01:01,  2.38s/it]\u001b[A\u001b[A\n",
      "\n",
      " 88%|████████▊ | 175/200 [06:05<00:59,  2.37s/it]\u001b[A\u001b[A\n",
      "\n",
      " 88%|████████▊ | 176/200 [06:07<00:57,  2.41s/it]\u001b[A\u001b[A\n",
      "\n",
      " 88%|████████▊ | 177/200 [06:10<00:54,  2.38s/it]\u001b[A\u001b[A\n",
      "\n",
      " 89%|████████▉ | 178/200 [06:12<00:52,  2.38s/it]\u001b[A\u001b[A\n",
      "\n",
      " 90%|████████▉ | 179/200 [06:14<00:49,  2.37s/it]\u001b[A\u001b[A\n",
      "\n",
      " 90%|█████████ | 180/200 [06:17<00:47,  2.36s/it]\u001b[A\u001b[A\n",
      "\n",
      " 90%|█████████ | 181/200 [06:19<00:44,  2.36s/it]\u001b[A\u001b[A\n",
      "\n",
      " 91%|█████████ | 182/200 [06:21<00:41,  2.33s/it]\u001b[A\u001b[A\n",
      "\n",
      " 92%|█████████▏| 183/200 [06:24<00:39,  2.34s/it]\u001b[A\u001b[A\n",
      "\n",
      " 92%|█████████▏| 184/200 [06:26<00:37,  2.34s/it]\u001b[A\u001b[A\n",
      "\n",
      " 92%|█████████▎| 185/200 [06:28<00:34,  2.33s/it]\u001b[A\u001b[A\n",
      "\n",
      " 93%|█████████▎| 186/200 [06:31<00:32,  2.33s/it]\u001b[A\u001b[A\n",
      "\n",
      " 94%|█████████▎| 187/200 [06:33<00:30,  2.33s/it]\u001b[A\u001b[A\n",
      "\n",
      " 94%|█████████▍| 188/200 [06:35<00:27,  2.33s/it]\u001b[A\u001b[A\n",
      "\n",
      " 94%|█████████▍| 189/200 [06:38<00:25,  2.33s/it]\u001b[A\u001b[A\n",
      "\n",
      " 95%|█████████▌| 190/200 [06:40<00:23,  2.35s/it]\u001b[A\u001b[A\n",
      "\n",
      " 96%|█████████▌| 191/200 [06:42<00:21,  2.35s/it]\u001b[A\u001b[A\n",
      "\n",
      " 96%|█████████▌| 192/200 [06:45<00:18,  2.36s/it]\u001b[A\u001b[A\n",
      "\n",
      " 96%|█████████▋| 193/200 [06:47<00:16,  2.35s/it]\u001b[A\u001b[A\n",
      "\n",
      " 97%|█████████▋| 194/200 [06:49<00:14,  2.36s/it]\u001b[A\u001b[A\n",
      "\n",
      " 98%|█████████▊| 195/200 [06:52<00:11,  2.36s/it]\u001b[A\u001b[A\n",
      "\n",
      " 98%|█████████▊| 196/200 [06:54<00:09,  2.36s/it]\u001b[A\u001b[A\n",
      "\n",
      " 98%|█████████▊| 197/200 [06:56<00:07,  2.36s/it]\u001b[A\u001b[A\n",
      "\n",
      " 99%|█████████▉| 198/200 [06:59<00:04,  2.34s/it]\u001b[A\u001b[A\n",
      "\n",
      "100%|█████████▉| 199/200 [07:01<00:02,  2.33s/it]\u001b[A\u001b[A\n",
      "\n",
      "100%|██████████| 200/200 [07:03<00:00,  2.34s/it]\u001b[A\u001b[A"
     ]
    },
    {
     "name": "stdout",
     "output_type": "stream",
     "text": [
      "Training Loss:  0.37392551183356376\n",
      "Done Training\n"
     ]
    }
   ],
   "source": [
    "in_features = train_loader_ws.dataset.tensors[0].shape[-1]\n",
    "model_ws_ = BinaryClassifier(in_features)\n",
    "criterion = nn.BCEWithLogitsLoss()\n",
    "optimizer = optim.Adam(model_ws_.parameters())\n",
    "num_epoch = 200\n",
    "\n",
    "train_model_(model_ws_, criterion, optimizer, train_loader_ws, num_epoch)"
   ]
  },
  {
   "cell_type": "code",
   "execution_count": 79,
   "metadata": {
    "collapsed": false
   },
   "outputs": [
    {
     "name": "stdout",
     "output_type": "stream",
     "text": [
      "Test accuracy is:  0.7203488729193539\n",
      "Reweighted accuracy is:  0.6560009620862596\n"
     ]
    }
   ],
   "source": [
    "test_model_(model_ws_, test_loader_ws_)"
   ]
  },
  {
   "cell_type": "code",
   "execution_count": null,
   "metadata": {
    "collapsed": true
   },
   "outputs": [],
   "source": []
  }
 ],
 "metadata": {
  "kernelspec": {
   "display_name": "Python 3",
   "language": "python",
   "name": "python3"
  },
  "language_info": {
   "codemirror_mode": {
    "name": "ipython",
    "version": 3
   },
   "file_extension": ".py",
   "mimetype": "text/x-python",
   "name": "python",
   "nbconvert_exporter": "python",
   "pygments_lexer": "ipython3",
   "version": "3.5.3"
  }
 },
 "nbformat": 4,
 "nbformat_minor": 2
}
