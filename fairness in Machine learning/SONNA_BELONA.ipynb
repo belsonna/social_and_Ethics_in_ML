{
 "cells": [
  {
   "cell_type": "markdown",
   "metadata": {},
   "source": [
    "# Representation Learning"
   ]
  },
  {
   "cell_type": "markdown",
   "metadata": {},
   "source": [
    "Here, we’ll look at two simple ways to pre-process the groups so that they look similar to each other. The purpose of this is to decrease unfairness. Again, we’ll use the Adult dataset."
   ]
  },
  {
   "cell_type": "code",
   "execution_count": 1,
   "metadata": {
    "collapsed": false
   },
   "outputs": [
    {
     "name": "stdout",
     "output_type": "stream",
     "text": [
      "Populating the interactive namespace from numpy and matplotlib\n"
     ]
    }
   ],
   "source": [
    "import numpy as np\n",
    "from   mmd  import MMD_torch\n",
    "import pandas as pd \n",
    "import torch\n",
    "import torchvision.models  as models\n",
    "import torch.nn as nn\n",
    "import torch.optim as optim\n",
    "import matplotlib.pyplot as plt\n",
    "from   tqdm import tqdm\n",
    "from   torch.utils.data import DataLoader, TensorDataset\n",
    "from   sklearn.mixture import GaussianMixture\n",
    "%pylab inline"
   ]
  },
  {
   "cell_type": "code",
   "execution_count": 2,
   "metadata": {
    "collapsed": true
   },
   "outputs": [],
   "source": [
    "import warnings\n",
    "warnings.filterwarnings(\"ignore\")"
   ]
  },
  {
   "cell_type": "code",
   "execution_count": 3,
   "metadata": {
    "collapsed": true
   },
   "outputs": [],
   "source": [
    "train_data = np.load(\"adult/adult_train.npz\")"
   ]
  },
  {
   "cell_type": "code",
   "execution_count": 4,
   "metadata": {
    "collapsed": true
   },
   "outputs": [],
   "source": [
    "header = np.loadtxt(\"adult/adult_headers.txt\", dtype = str )"
   ]
  },
  {
   "cell_type": "code",
   "execution_count": 5,
   "metadata": {
    "collapsed": true,
    "scrolled": true
   },
   "outputs": [],
   "source": [
    "train_data_X = pd.DataFrame(train_data[\"x\"], columns= header[:-1])\n",
    "train_data_Y = pd.DataFrame(train_data[\"y\"], columns= [header[-1]])\n",
    "train_data_A = pd.DataFrame(train_data[\"a\"], columns = [\"gender\"])"
   ]
  },
  {
   "cell_type": "code",
   "execution_count": 6,
   "metadata": {
    "collapsed": true
   },
   "outputs": [],
   "source": [
    "data = pd.concat((train_data_X, train_data_Y, train_data_A), axis = 1)"
   ]
  },
  {
   "cell_type": "code",
   "execution_count": 7,
   "metadata": {
    "collapsed": true
   },
   "outputs": [],
   "source": [
    "test_data = np.load(\"adult/adult_test.npz\")\n",
    "test_data_X = pd.DataFrame(test_data[\"x\"], columns= header[:-1])\n",
    "test_data_Y= pd.DataFrame(test_data[\"y\"], columns= [header[-1]])\n",
    "test_data_A = pd.DataFrame(test_data[\"a\"], columns = [\"gender\"])"
   ]
  },
  {
   "cell_type": "code",
   "execution_count": 8,
   "metadata": {
    "collapsed": true
   },
   "outputs": [],
   "source": [
    "class PandasDF(TensorDataset):\n",
    "\n",
    "    def __init__(self, *dataframes):\n",
    "        tensors = (self._df_to_tensor(df) for df in dataframes)\n",
    "        super(PandasDF, self).__init__(*tensors)\n",
    "\n",
    "    def _df_to_tensor(self, df):\n",
    "        if isinstance(df, pd.Series):\n",
    "            df = df.to_frame()\n",
    "        return torch.from_numpy(df.values).float()"
   ]
  },
  {
   "cell_type": "code",
   "execution_count": 9,
   "metadata": {
    "collapsed": true
   },
   "outputs": [],
   "source": [
    "class BinaryClassifier(nn.Module):\n",
    "    def __init__(self, in_features, n_hidden = 128):\n",
    "        super(BinaryClassifier, self).__init__()\n",
    "        \n",
    "        self.linear_network = nn.Sequential(\n",
    "                                    nn.Linear(in_features, n_hidden),\n",
    "                                    nn.ReLU(),\n",
    "                                    nn.Linear(n_hidden, n_hidden),\n",
    "                                    nn.ReLU(),\n",
    "                                    nn.Linear(n_hidden, n_hidden),\n",
    "                                    nn.ReLU(),\n",
    "                                    nn.Linear(n_hidden, n_hidden),\n",
    "                                    nn.ReLU(),\n",
    "                                    nn.Linear(n_hidden, 1))\n",
    "        \n",
    "    def forward(self, x):\n",
    "        return self.linear_network(x)"
   ]
  },
  {
   "cell_type": "code",
   "execution_count": 10,
   "metadata": {
    "collapsed": true
   },
   "outputs": [],
   "source": [
    "def train_model(model, criterion, optimizer, dataloader, num_epoch, alpha, withMMD = False):\n",
    "    model.train()\n",
    "    \n",
    "    for epoch in tqdm(range(num_epoch)):\n",
    "        train_loss = 0.\n",
    "        for i, (data, label, a) in enumerate(dataloader):\n",
    "            \n",
    "            output = model(data)\n",
    "            if withMMD:\n",
    "                 loss = criterion(output, label) + alpha * MMD_torch(output, a)\n",
    "            else:\n",
    "                loss = criterion(output, label)\n",
    "            \n",
    "            optimizer.zero_grad()\n",
    "            loss.backward()\n",
    "            optimizer.step()\n",
    "            \n",
    "            train_loss += loss.item() * len(data)/ float(len(dataloader.dataset))\n",
    "        \n",
    "        \n",
    "        if epoch % 50 == 0:\n",
    "            print(\"Epoch: \", epoch, \"Loss: \", [train_loss])\n",
    "        \n",
    "    print(\"Training Loss: \", train_loss)\n",
    "    \n",
    "    print(\"Done Training\")\n",
    "\n",
    "    \n",
    "def test_model(model, dataloader):\n",
    "    model.eval()\n",
    "    \n",
    "    with torch.no_grad():\n",
    "        accuracy = 0\n",
    "        n_A_zero = 0\n",
    "        n_A_one = 0\n",
    "        dp_A_zero = 0\n",
    "        dp_A_one = 0\n",
    "        for i, (data, label, sensitive) in enumerate(dataloader):\n",
    "\n",
    "                output = model(data)\n",
    "                predicted = torch.tensor((output.squeeze() > 0.).long()).reshape((-1,1))\n",
    "                \n",
    "                for item in range(len(sensitive)):\n",
    "                    if sensitive[item] == 0:\n",
    "                        n_A_zero += 1\n",
    "                        dp_A_zero += predicted[item].item()\n",
    "                    else:\n",
    "                        n_A_one += 1\n",
    "                        dp_A_one += predicted[item].item()\n",
    "                \n",
    "                accuracy += np.equal(predicted, label).sum().item()\n",
    "        \n",
    "        mean_dif = dp_A_zero / n_A_zero - dp_A_one / n_A_one\n",
    "            \n",
    "        print(\"Test accuracy is: \", accuracy / len(dataloader.dataset))\n",
    "        print(\"Mean difference: \", mean_dif)\n",
    "        print(\"Demographic parity is: \", np.abs(mean_dif))\n",
    "        \n",
    "    return accuracy / len(dataloader.dataset) , np.abs(mean_dif)"
   ]
  },
  {
   "cell_type": "code",
   "execution_count": 11,
   "metadata": {
    "collapsed": true
   },
   "outputs": [],
   "source": [
    "def train_model_(model, criterion, optimizer, dataloader, num_epoch, alpha, withMMD = False):\n",
    "    model.train()\n",
    "    \n",
    "    for epoch in tqdm(range(num_epoch)):\n",
    "        train_loss = 0.\n",
    "        for i, (data, _, label) in enumerate(dataloader):\n",
    "            \n",
    "            output = model(data)\n",
    "            if withMMD:\n",
    "                loss = criterion(output, label) + alpha * MMD_torch(output, label)\n",
    "            else:\n",
    "                loss = criterion(output, label)\n",
    "            \n",
    "            optimizer.zero_grad()\n",
    "            loss.backward()\n",
    "            optimizer.step()\n",
    "            \n",
    "            train_loss += loss.item() * len(data)/ float(len(dataloader.dataset))\n",
    "        \n",
    "        \n",
    "        if epoch % 50 == 0:\n",
    "            print(\"Epoch: \", epoch, \"Loss: \", [train_loss])\n",
    "        \n",
    "    print(\"Training Loss: \", train_loss)\n",
    "    \n",
    "    print(\"Done Training\")\n",
    "\n",
    "    \n",
    "def test_model_(model, dataloader):\n",
    "    model.eval()\n",
    "    \n",
    "    with torch.no_grad():\n",
    "        accuracy = 0\n",
    "        n_A_zero = 0\n",
    "        n_A_one = 0\n",
    "        sum_zero = 0\n",
    "        sum_one = 0\n",
    "        for i, (data, _, sensitive) in enumerate(dataloader):\n",
    "\n",
    "                output = model(data)\n",
    "                predicted = torch.tensor((output.squeeze() > 0.).long()).reshape((-1,1))\n",
    "                \n",
    "                for item in range(len(sensitive)):\n",
    "                    if sensitive[item] == 0:\n",
    "                        n_A_zero += 1\n",
    "                        sum_zero += predicted[item].item() == sensitive[item].item()\n",
    "                    else:\n",
    "                        n_A_one += 1\n",
    "                        sum_one += predicted[item].item() == sensitive[item].item()\n",
    "                \n",
    "                accuracy += np.equal(predicted, sensitive).sum().item()\n",
    "        racc = 0.5 * (sum_zero / n_A_zero + sum_one / n_A_one)\n",
    "            \n",
    "        print(\"Test accuracy is: \", accuracy / len(dataloader.dataset))\n",
    "        print(\"Reweighted accuracy is: \", racc)"
   ]
  },
  {
   "cell_type": "markdown",
   "metadata": {},
   "source": [
    "#### preprocess the data using means and variances from gaussians fitted on each feature then train a classifier for predicting $A$ and $Y$"
   ]
  },
  {
   "cell_type": "code",
   "execution_count": 12,
   "metadata": {
    "collapsed": false
   },
   "outputs": [],
   "source": [
    "# get the features for group A = 0\n",
    "\n",
    "train_XA0 = data[data.gender != 1].drop(labels = [\"income\", \"gender\"],axis=1)\n",
    "\n",
    "\n",
    "# get the features for group A = 1\n",
    "\n",
    "train_XA1 = data[data.gender != 0].drop(labels = [\"income\", \"gender\"],axis=1)"
   ]
  },
  {
   "cell_type": "code",
   "execution_count": 13,
   "metadata": {
    "collapsed": false
   },
   "outputs": [],
   "source": [
    "\n",
    "#definition of the gaussians\n",
    "Gaussian0 = GaussianMixture(covariance_type = \"diag\")\n",
    "Gaussian0.fit(train_XA0)\n",
    "\n",
    "Gaussian1 = GaussianMixture(covariance_type = \"diag\")\n",
    "Gaussian1.fit(train_XA1)\n",
    "\n",
    "\n",
    "mean_A0 = Gaussian0.means_\n",
    "cov_A_0 = Gaussian0.covariances_[0]\n",
    "\n",
    "mean_A1 = Gaussian1.means_\n",
    "cov_A_1 = Gaussian1.covariances_[0]"
   ]
  },
  {
   "cell_type": "code",
   "execution_count": 14,
   "metadata": {
    "collapsed": true
   },
   "outputs": [],
   "source": [
    "# preprocessing the data \n",
    "train_data_X_ = train_data_X.copy()\n",
    "for row in range(train_data_X.shape[0]):\n",
    "    if train_data_A.iloc[row].values[0] == 0:\n",
    "        train_data_X_.iloc[row, ] = (train_data_X.iloc[row, ].values.copy() - mean_A0) /np.sqrt(cov_A_0)\n",
    "    else:\n",
    "        train_data_X_.iloc[row, ] = (train_data_X.iloc[row, ].values.copy() - mean_A1) /np.sqrt(cov_A_1)"
   ]
  },
  {
   "cell_type": "code",
   "execution_count": 15,
   "metadata": {
    "collapsed": false
   },
   "outputs": [],
   "source": [
    "\n",
    "data_ = pd.concat((train_data_X_, train_data_A), axis = 1)\n",
    "\n",
    "# features A = 0\n",
    "train_XA0_ = data_[data_.gender != 1].drop(labels = [\"gender\"], axis=1)\n",
    "\n",
    "# the features  A = 1\n",
    "train_XA1_ = data_[data_.gender != 0].drop(labels= [\"gender\"],axis=1)\n"
   ]
  },
  {
   "cell_type": "code",
   "execution_count": 16,
   "metadata": {
    "collapsed": true
   },
   "outputs": [],
   "source": [
    "train_data_t  = PandasDF(train_data_X_, train_data_Y, train_data_A)\n",
    "train_loader_ = DataLoader(train_data_t, batch_size = 64, shuffle = True, drop_last = True) "
   ]
  },
  {
   "cell_type": "code",
   "execution_count": 17,
   "metadata": {
    "collapsed": false
   },
   "outputs": [
    {
     "name": "stderr",
     "output_type": "stream",
     "text": [
      "  0%|          | 1/200 [00:01<03:59,  1.20s/it]"
     ]
    },
    {
     "name": "stdout",
     "output_type": "stream",
     "text": [
      "Epoch:  0 Loss:  [0.3652493045823635]\n"
     ]
    },
    {
     "name": "stderr",
     "output_type": "stream",
     "text": [
      " 26%|██▌       | 51/200 [01:16<04:01,  1.62s/it]"
     ]
    },
    {
     "name": "stdout",
     "output_type": "stream",
     "text": [
      "Epoch:  50 Loss:  [0.17083496548928054]\n"
     ]
    },
    {
     "name": "stderr",
     "output_type": "stream",
     "text": [
      " 50%|█████     | 101/200 [02:33<02:28,  1.50s/it]"
     ]
    },
    {
     "name": "stdout",
     "output_type": "stream",
     "text": [
      "Epoch:  100 Loss:  [0.14597807826487982]\n"
     ]
    },
    {
     "name": "stderr",
     "output_type": "stream",
     "text": [
      " 76%|███████▌  | 151/200 [03:49<01:14,  1.53s/it]"
     ]
    },
    {
     "name": "stdout",
     "output_type": "stream",
     "text": [
      "Epoch:  150 Loss:  [0.13186770041083146]\n"
     ]
    },
    {
     "name": "stderr",
     "output_type": "stream",
     "text": [
      "100%|██████████| 200/200 [05:06<00:00,  1.54s/it]"
     ]
    },
    {
     "name": "stdout",
     "output_type": "stream",
     "text": [
      "Training Loss:  0.13241332724911475\n",
      "Done Training\n"
     ]
    },
    {
     "name": "stderr",
     "output_type": "stream",
     "text": [
      "\n"
     ]
    }
   ],
   "source": [
    "# learn a classifier g to predict Y from this preprocessed data\n",
    "\n",
    "in_features = train_loader_.dataset.tensors[0].shape[-1]\n",
    "g = BinaryClassifier(in_features)\n",
    "criterion = nn.BCEWithLogitsLoss()\n",
    "optimizer = optim.Adam(g.parameters())\n",
    "num_epoch = 200\n",
    "\n",
    "train_model(g, criterion, optimizer, train_loader_, num_epoch, 0, False)"
   ]
  },
  {
   "cell_type": "code",
   "execution_count": 18,
   "metadata": {
    "collapsed": true
   },
   "outputs": [],
   "source": [
    "data_test = pd.concat((test_data_X, test_data_Y, test_data_A), axis = 1)"
   ]
  },
  {
   "cell_type": "code",
   "execution_count": 19,
   "metadata": {
    "collapsed": false
   },
   "outputs": [],
   "source": [
    "# get the features for group A = 0 for test data\n",
    "\n",
    "test_XA0 = data_test[data_test.gender != 1].drop(labels = [\"income\", \"gender\"], axis=1)\n",
    "\n",
    "\n",
    "# get the features for group A = 1 for test data\n",
    "\n",
    "test_XA1 = data_test[data_test.gender != 0].drop(labels = [\"income\", \"gender\"],axis=1)"
   ]
  },
  {
   "cell_type": "code",
   "execution_count": 20,
   "metadata": {
    "collapsed": true
   },
   "outputs": [],
   "source": [
    "#fit gaussian for features of group A = 0 for test data\n",
    "Gaussiant0 = GaussianMixture(covariance_type = \"diag\")\n",
    "Gaussiant0.fit(test_XA0)\n",
    "\n",
    "mean_tA0 = Gaussiant0.means_\n",
    "cov_tA0 = Gaussiant0.covariances_[0]\n",
    "\n",
    "#fit gaussian for features of group A = 1 for test data\n",
    "Gaussiant1 = GaussianMixture(covariance_type = \"diag\")\n",
    "Gaussiant1.fit(test_XA1)\n",
    "\n",
    "mean_tA1 = Gaussiant1.means_\n",
    "cov_tA1 = Gaussiant1.covariances_[0]"
   ]
  },
  {
   "cell_type": "code",
   "execution_count": 21,
   "metadata": {
    "collapsed": false
   },
   "outputs": [],
   "source": [
    "# preprocessing the test data with learned gaussian means and variances\n",
    "test_data_X_ = test_data_X.copy()\n",
    "for row in range(test_data_X.shape[0]):\n",
    "    if test_data_A.iloc[row].values[0] == 0:\n",
    "        test_data_X_.iloc[row, ] = (test_data_X.iloc[row, ].values.copy() - mean_tA0) /np.sqrt(cov_tA0)\n",
    "    else:\n",
    "        test_data_X_.iloc[row, ] = (test_data_X.iloc[row, ].values.copy() - mean_tA1) /np.sqrt(cov_tA1)"
   ]
  },
  {
   "cell_type": "code",
   "execution_count": 22,
   "metadata": {
    "collapsed": true
   },
   "outputs": [],
   "source": [
    "test_data_t  = PandasDF(test_data_X_, test_data_Y, test_data_A)\n",
    "test_loader_ = DataLoader(test_data_t, batch_size = 64, shuffle = True, drop_last = False) "
   ]
  },
  {
   "cell_type": "code",
   "execution_count": 23,
   "metadata": {
    "collapsed": false
   },
   "outputs": [
    {
     "name": "stdout",
     "output_type": "stream",
     "text": [
      "Test accuracy is:  0.8251950125913642\n",
      "Mean difference:  -0.17155348394467596\n",
      "Demographic parity is:  0.17155348394467596\n"
     ]
    },
    {
     "data": {
      "text/plain": [
       "(0.8251950125913642, 0.17155348394467596)"
      ]
     },
     "execution_count": 23,
     "metadata": {},
     "output_type": "execute_result"
    }
   ],
   "source": [
    "#evaluate performace of classifier g on preprocessed test set with accuracy and DP\n",
    "test_model(g, test_loader_)"
   ]
  },
  {
   "cell_type": "code",
   "execution_count": 24,
   "metadata": {
    "collapsed": false
   },
   "outputs": [
    {
     "name": "stderr",
     "output_type": "stream",
     "text": [
      "  0%|          | 1/200 [00:01<04:23,  1.32s/it]"
     ]
    },
    {
     "name": "stdout",
     "output_type": "stream",
     "text": [
      "Epoch:  0 Loss:  [0.15755315889290317]\n"
     ]
    },
    {
     "name": "stderr",
     "output_type": "stream",
     "text": [
      " 26%|██▌       | 51/200 [01:27<04:36,  1.86s/it]"
     ]
    },
    {
     "name": "stdout",
     "output_type": "stream",
     "text": [
      "Epoch:  50 Loss:  [2.92888504518544e-11]\n"
     ]
    },
    {
     "name": "stderr",
     "output_type": "stream",
     "text": [
      " 50%|█████     | 101/200 [03:04<03:19,  2.02s/it]"
     ]
    },
    {
     "name": "stdout",
     "output_type": "stream",
     "text": [
      "Epoch:  100 Loss:  [1.46444252259272e-11]\n"
     ]
    },
    {
     "name": "stderr",
     "output_type": "stream",
     "text": [
      " 76%|███████▌  | 151/200 [04:53<01:53,  2.31s/it]"
     ]
    },
    {
     "name": "stdout",
     "output_type": "stream",
     "text": [
      "Epoch:  150 Loss:  [2.0564079127969155e-08]\n"
     ]
    },
    {
     "name": "stderr",
     "output_type": "stream",
     "text": [
      "100%|██████████| 200/200 [07:09<00:00,  2.75s/it]"
     ]
    },
    {
     "name": "stdout",
     "output_type": "stream",
     "text": [
      "Training Loss:  0.0\n",
      "Done Training\n"
     ]
    },
    {
     "name": "stderr",
     "output_type": "stream",
     "text": [
      "\n"
     ]
    }
   ],
   "source": [
    "# learn a classifier h to predict A from this preprocessed data\n",
    "\n",
    "in_features = train_loader_.dataset.tensors[0].shape[-1]\n",
    "h = BinaryClassifier(in_features)\n",
    "criterion = nn.BCEWithLogitsLoss()\n",
    "optimizer = optim.Adam(h.parameters())\n",
    "num_epoch = 200\n",
    "\n",
    "train_model_(h, criterion, optimizer, train_loader_, num_epoch, 0, False)"
   ]
  },
  {
   "cell_type": "code",
   "execution_count": 25,
   "metadata": {
    "collapsed": false
   },
   "outputs": [
    {
     "name": "stdout",
     "output_type": "stream",
     "text": [
      "Test accuracy is:  0.9995700509796696\n",
      "Reweighted accuracy is:  0.9995391362218342\n"
     ]
    }
   ],
   "source": [
    "# evaluate performance of classifier h on preprocessed test set with accuracy and reweighted accuracy\n",
    "test_model_(h, test_loader_)"
   ]
  },
  {
   "cell_type": "markdown",
   "metadata": {},
   "source": [
    "#### implement the use of Maximum Mean Discrepancy to make the features from both classes of the gender $A$ indistinguishable on the average."
   ]
  },
  {
   "cell_type": "code",
   "execution_count": 26,
   "metadata": {
    "collapsed": true
   },
   "outputs": [],
   "source": [
    "train_data_t  = PandasDF(train_data_X, train_data_Y, train_data_A)\n",
    "train_loader = DataLoader(train_data_t, batch_size = 64, shuffle = True, drop_last = True) "
   ]
  },
  {
   "cell_type": "code",
   "execution_count": 27,
   "metadata": {
    "collapsed": false
   },
   "outputs": [
    {
     "name": "stderr",
     "output_type": "stream",
     "text": [
      "  0%|          | 1/200 [00:02<07:30,  2.26s/it]"
     ]
    },
    {
     "name": "stdout",
     "output_type": "stream",
     "text": [
      "Epoch:  0 Loss:  [0.47300643343322263]\n"
     ]
    },
    {
     "name": "stderr",
     "output_type": "stream",
     "text": [
      " 26%|██▌       | 51/200 [02:20<07:03,  2.84s/it]"
     ]
    },
    {
     "name": "stdout",
     "output_type": "stream",
     "text": [
      "Epoch:  50 Loss:  [0.2755403583990902]\n"
     ]
    },
    {
     "name": "stderr",
     "output_type": "stream",
     "text": [
      " 50%|█████     | 101/200 [04:45<04:51,  2.95s/it]"
     ]
    },
    {
     "name": "stdout",
     "output_type": "stream",
     "text": [
      "Epoch:  100 Loss:  [0.22712826694406396]\n"
     ]
    },
    {
     "name": "stderr",
     "output_type": "stream",
     "text": [
      " 76%|███████▌  | 151/200 [07:18<02:34,  3.15s/it]"
     ]
    },
    {
     "name": "stdout",
     "output_type": "stream",
     "text": [
      "Epoch:  150 Loss:  [0.2070820349220021]\n"
     ]
    },
    {
     "name": "stderr",
     "output_type": "stream",
     "text": [
      "100%|██████████| 200/200 [09:53<00:00,  3.21s/it]"
     ]
    },
    {
     "name": "stdout",
     "output_type": "stream",
     "text": [
      "Training Loss:  0.19836549854685673\n",
      "Done Training\n"
     ]
    },
    {
     "name": "stderr",
     "output_type": "stream",
     "text": [
      "\n"
     ]
    }
   ],
   "source": [
    "# predicting Y with MMD\n",
    "\n",
    "in_features = train_loader.dataset.tensors[0].shape[-1]\n",
    "model = BinaryClassifier(in_features)\n",
    "criterion = nn.BCEWithLogitsLoss()\n",
    "optimizer = optim.Adam(model.parameters())\n",
    "num_epoch = 200\n",
    "alpha = 0.1\n",
    "train_model(model, criterion, optimizer, train_loader, num_epoch, alpha, True)"
   ]
  },
  {
   "cell_type": "code",
   "execution_count": 28,
   "metadata": {
    "collapsed": true
   },
   "outputs": [],
   "source": [
    "test_data_t  = PandasDF(test_data_X, test_data_Y, test_data_A)\n",
    "test_loader = DataLoader(test_data_t, batch_size = 64, shuffle = True, drop_last = False) "
   ]
  },
  {
   "cell_type": "code",
   "execution_count": 29,
   "metadata": {
    "collapsed": false
   },
   "outputs": [
    {
     "name": "stdout",
     "output_type": "stream",
     "text": [
      "Test accuracy is:  0.8361280019654812\n",
      "Mean difference:  -0.17009792081337055\n",
      "Demographic parity is:  0.17009792081337055\n"
     ]
    },
    {
     "data": {
      "text/plain": [
       "(0.8361280019654812, 0.17009792081337055)"
      ]
     },
     "execution_count": 29,
     "metadata": {},
     "output_type": "execute_result"
    }
   ],
   "source": [
    "test_model(model, test_loader)"
   ]
  },
  {
   "cell_type": "code",
   "execution_count": 30,
   "metadata": {
    "collapsed": false,
    "scrolled": true
   },
   "outputs": [
    {
     "name": "stderr",
     "output_type": "stream",
     "text": [
      "  0%|          | 1/200 [00:02<07:38,  2.30s/it]"
     ]
    },
    {
     "name": "stdout",
     "output_type": "stream",
     "text": [
      "Epoch:  0 Loss:  [0.23888845514897494]\n"
     ]
    },
    {
     "name": "stderr",
     "output_type": "stream",
     "text": [
      " 26%|██▌       | 51/200 [02:39<08:30,  3.42s/it]"
     ]
    },
    {
     "name": "stdout",
     "output_type": "stream",
     "text": [
      "Epoch:  50 Loss:  [0.07826437572051809]\n"
     ]
    },
    {
     "name": "stderr",
     "output_type": "stream",
     "text": [
      " 50%|█████     | 101/200 [05:38<06:05,  3.69s/it]"
     ]
    },
    {
     "name": "stdout",
     "output_type": "stream",
     "text": [
      "Epoch:  100 Loss:  [0.07097312691979725]\n"
     ]
    },
    {
     "name": "stderr",
     "output_type": "stream",
     "text": [
      " 76%|███████▌  | 151/200 [08:56<03:25,  4.19s/it]"
     ]
    },
    {
     "name": "stdout",
     "output_type": "stream",
     "text": [
      "Epoch:  150 Loss:  [0.07834522869625678]\n"
     ]
    },
    {
     "name": "stderr",
     "output_type": "stream",
     "text": [
      "100%|██████████| 200/200 [12:38<00:00,  4.70s/it]"
     ]
    },
    {
     "name": "stdout",
     "output_type": "stream",
     "text": [
      "Training Loss:  0.07766129313125639\n",
      "Done Training\n"
     ]
    },
    {
     "name": "stderr",
     "output_type": "stream",
     "text": [
      "\n"
     ]
    }
   ],
   "source": [
    "# predicting A with MMD\n",
    "in_features = train_loader.dataset.tensors[0].shape[-1]\n",
    "model1 = BinaryClassifier(in_features)\n",
    "criterion = nn.BCEWithLogitsLoss()\n",
    "optimizer = optim.Adam(model1.parameters())\n",
    "num_epoch = 200\n",
    "alpha = 0.1\n",
    "train_model_(model1, criterion, optimizer, train_loader, num_epoch, alpha, True)"
   ]
  },
  {
   "cell_type": "code",
   "execution_count": 31,
   "metadata": {
    "collapsed": false
   },
   "outputs": [
    {
     "name": "stdout",
     "output_type": "stream",
     "text": [
      "Test accuracy is:  0.969535040845157\n",
      "Reweighted accuracy is:  0.9542519830289615\n"
     ]
    }
   ],
   "source": [
    "test_model_(model1, test_loader)"
   ]
  },
  {
   "cell_type": "markdown",
   "metadata": {},
   "source": [
    "#### range of values of the hyperparameter $\\alpha$ and investigate the influence of the values of $\\alpha$ on the accuracy $acc$ and demographic parity $ \\Delta_{DP}$ on the test set."
   ]
  },
  {
   "cell_type": "code",
   "execution_count": 32,
   "metadata": {
    "collapsed": true
   },
   "outputs": [],
   "source": [
    "alpha_range = np.array([0.0001, 0.0005, 0.001, 0.005, 0.01, 0.05, 0.1, 0.5, 1.0, 5.0, 10.0])\n",
    "criterion = nn.BCEWithLogitsLoss()\n",
    "in_features = train_loader.dataset.tensors[0].shape[-1]"
   ]
  },
  {
   "cell_type": "code",
   "execution_count": 34,
   "metadata": {
    "collapsed": false,
    "scrolled": false
   },
   "outputs": [
    {
     "name": "stderr",
     "output_type": "stream",
     "text": [
      "\r",
      "  0%|          | 0/100 [00:00<?, ?it/s]"
     ]
    },
    {
     "name": "stdout",
     "output_type": "stream",
     "text": [
      "###############################\n",
      "for value of alpha= 0.0001\n",
      "###############################\n"
     ]
    },
    {
     "name": "stderr",
     "output_type": "stream",
     "text": [
      "\r",
      "  1%|          | 1/100 [00:01<03:13,  1.96s/it]"
     ]
    },
    {
     "name": "stdout",
     "output_type": "stream",
     "text": [
      "Epoch:  0 Loss:  [0.4199958410673403]\n"
     ]
    },
    {
     "name": "stderr",
     "output_type": "stream",
     "text": [
      " 51%|█████     | 51/100 [02:15<02:16,  2.78s/it]"
     ]
    },
    {
     "name": "stdout",
     "output_type": "stream",
     "text": [
      "Epoch:  50 Loss:  [0.26137669684461456]\n"
     ]
    },
    {
     "name": "stderr",
     "output_type": "stream",
     "text": [
      "100%|██████████| 100/100 [04:34<00:00,  2.82s/it]\n"
     ]
    },
    {
     "name": "stdout",
     "output_type": "stream",
     "text": [
      "Training Loss:  0.22001415895107235\n",
      "Done Training\n"
     ]
    },
    {
     "name": "stderr",
     "output_type": "stream",
     "text": [
      "\r",
      "  0%|          | 0/100 [00:00<?, ?it/s]"
     ]
    },
    {
     "name": "stdout",
     "output_type": "stream",
     "text": [
      "Test accuracy is:  0.8411645476322093\n",
      "Mean difference:  -0.17018296964638235\n",
      "Demographic parity is:  0.17018296964638235\n",
      "###############################\n",
      "for value of alpha= 0.0005\n",
      "###############################\n"
     ]
    },
    {
     "name": "stderr",
     "output_type": "stream",
     "text": [
      "\r",
      "  1%|          | 1/100 [00:02<03:50,  2.33s/it]"
     ]
    },
    {
     "name": "stdout",
     "output_type": "stream",
     "text": [
      "Epoch:  0 Loss:  [0.4334081843555324]\n"
     ]
    },
    {
     "name": "stderr",
     "output_type": "stream",
     "text": [
      " 51%|█████     | 51/100 [02:24<02:22,  2.92s/it]"
     ]
    },
    {
     "name": "stdout",
     "output_type": "stream",
     "text": [
      "Epoch:  50 Loss:  [0.26147834875598186]\n"
     ]
    },
    {
     "name": "stderr",
     "output_type": "stream",
     "text": [
      "100%|██████████| 100/100 [04:46<00:00,  2.90s/it]\n"
     ]
    },
    {
     "name": "stdout",
     "output_type": "stream",
     "text": [
      "Training Loss:  0.21853391859331556\n",
      "Done Training\n"
     ]
    },
    {
     "name": "stderr",
     "output_type": "stream",
     "text": [
      "\r",
      "  0%|          | 0/100 [00:00<?, ?it/s]"
     ]
    },
    {
     "name": "stdout",
     "output_type": "stream",
     "text": [
      "Test accuracy is:  0.8424543946932007\n",
      "Mean difference:  -0.1807777917062865\n",
      "Demographic parity is:  0.1807777917062865\n",
      "###############################\n",
      "for value of alpha= 0.001\n",
      "###############################\n"
     ]
    },
    {
     "name": "stderr",
     "output_type": "stream",
     "text": [
      "\r",
      "  1%|          | 1/100 [00:02<03:46,  2.29s/it]"
     ]
    },
    {
     "name": "stdout",
     "output_type": "stream",
     "text": [
      "Epoch:  0 Loss:  [0.43870187326334453]\n"
     ]
    },
    {
     "name": "stderr",
     "output_type": "stream",
     "text": [
      " 51%|█████     | 51/100 [02:26<02:20,  2.87s/it]"
     ]
    },
    {
     "name": "stdout",
     "output_type": "stream",
     "text": [
      "Epoch:  50 Loss:  [0.258393056686803]\n"
     ]
    },
    {
     "name": "stderr",
     "output_type": "stream",
     "text": [
      "100%|██████████| 100/100 [04:46<00:00,  3.04s/it]\n"
     ]
    },
    {
     "name": "stdout",
     "output_type": "stream",
     "text": [
      "Training Loss:  0.2159667943678743\n",
      "Done Training\n"
     ]
    },
    {
     "name": "stderr",
     "output_type": "stream",
     "text": [
      "\r",
      "  0%|          | 0/100 [00:00<?, ?it/s]"
     ]
    },
    {
     "name": "stdout",
     "output_type": "stream",
     "text": [
      "Test accuracy is:  0.8420244456728703\n",
      "Mean difference:  -0.1681669708856799\n",
      "Demographic parity is:  0.1681669708856799\n",
      "###############################\n",
      "for value of alpha= 0.005\n",
      "###############################\n"
     ]
    },
    {
     "name": "stderr",
     "output_type": "stream",
     "text": [
      "\r",
      "  1%|          | 1/100 [00:02<03:52,  2.35s/it]"
     ]
    },
    {
     "name": "stdout",
     "output_type": "stream",
     "text": [
      "Epoch:  0 Loss:  [0.43449224939085906]\n"
     ]
    },
    {
     "name": "stderr",
     "output_type": "stream",
     "text": [
      " 51%|█████     | 51/100 [02:25<02:24,  2.94s/it]"
     ]
    },
    {
     "name": "stdout",
     "output_type": "stream",
     "text": [
      "Epoch:  50 Loss:  [0.259733221615193]\n"
     ]
    },
    {
     "name": "stderr",
     "output_type": "stream",
     "text": [
      "100%|██████████| 100/100 [04:49<00:00,  2.96s/it]\n"
     ]
    },
    {
     "name": "stdout",
     "output_type": "stream",
     "text": [
      "Training Loss:  0.21920991055938546\n",
      "Done Training\n"
     ]
    },
    {
     "name": "stderr",
     "output_type": "stream",
     "text": [
      "\r",
      "  0%|          | 0/100 [00:00<?, ?it/s]"
     ]
    },
    {
     "name": "stdout",
     "output_type": "stream",
     "text": [
      "Test accuracy is:  0.8395061728395061\n",
      "Mean difference:  -0.17524375739527376\n",
      "Demographic parity is:  0.17524375739527376\n",
      "###############################\n",
      "for value of alpha= 0.01\n",
      "###############################\n"
     ]
    },
    {
     "name": "stderr",
     "output_type": "stream",
     "text": [
      "\r",
      "  1%|          | 1/100 [00:02<03:54,  2.37s/it]"
     ]
    },
    {
     "name": "stdout",
     "output_type": "stream",
     "text": [
      "Epoch:  0 Loss:  [0.42472267130376684]\n"
     ]
    },
    {
     "name": "stderr",
     "output_type": "stream",
     "text": [
      " 51%|█████     | 51/100 [02:24<02:19,  2.85s/it]"
     ]
    },
    {
     "name": "stdout",
     "output_type": "stream",
     "text": [
      "Epoch:  50 Loss:  [0.2599913749789721]\n"
     ]
    },
    {
     "name": "stderr",
     "output_type": "stream",
     "text": [
      "100%|██████████| 100/100 [04:43<00:00,  2.81s/it]\n"
     ]
    },
    {
     "name": "stdout",
     "output_type": "stream",
     "text": [
      "Training Loss:  0.216959886134123\n",
      "Done Training\n"
     ]
    },
    {
     "name": "stderr",
     "output_type": "stream",
     "text": [
      "\r",
      "  0%|          | 0/100 [00:00<?, ?it/s]"
     ]
    },
    {
     "name": "stdout",
     "output_type": "stream",
     "text": [
      "Test accuracy is:  0.8392604876850316\n",
      "Mean difference:  -0.17663995450473452\n",
      "Demographic parity is:  0.17663995450473452\n",
      "###############################\n",
      "for value of alpha= 0.05\n",
      "###############################\n"
     ]
    },
    {
     "name": "stderr",
     "output_type": "stream",
     "text": [
      "\r",
      "  1%|          | 1/100 [00:02<03:47,  2.30s/it]"
     ]
    },
    {
     "name": "stdout",
     "output_type": "stream",
     "text": [
      "Epoch:  0 Loss:  [0.41817345702235537]\n"
     ]
    },
    {
     "name": "stderr",
     "output_type": "stream",
     "text": [
      " 51%|█████     | 51/100 [02:22<02:21,  2.88s/it]"
     ]
    },
    {
     "name": "stdout",
     "output_type": "stream",
     "text": [
      "Epoch:  50 Loss:  [0.2699639184854016]\n"
     ]
    },
    {
     "name": "stderr",
     "output_type": "stream",
     "text": [
      "100%|██████████| 100/100 [04:42<00:00,  2.87s/it]\n"
     ]
    },
    {
     "name": "stdout",
     "output_type": "stream",
     "text": [
      "Training Loss:  0.22674465409360847\n",
      "Done Training\n"
     ]
    },
    {
     "name": "stderr",
     "output_type": "stream",
     "text": [
      "\r",
      "  0%|          | 0/100 [00:00<?, ?it/s]"
     ]
    },
    {
     "name": "stdout",
     "output_type": "stream",
     "text": [
      "Test accuracy is:  0.8466924636078865\n",
      "Mean difference:  -0.18686522944840048\n",
      "Demographic parity is:  0.18686522944840048\n",
      "###############################\n",
      "for value of alpha= 0.1\n",
      "###############################\n"
     ]
    },
    {
     "name": "stderr",
     "output_type": "stream",
     "text": [
      "\r",
      "  1%|          | 1/100 [00:02<03:43,  2.26s/it]"
     ]
    },
    {
     "name": "stdout",
     "output_type": "stream",
     "text": [
      "Epoch:  0 Loss:  [0.4070741973218071]\n"
     ]
    },
    {
     "name": "stderr",
     "output_type": "stream",
     "text": [
      " 51%|█████     | 51/100 [02:25<02:24,  2.94s/it]"
     ]
    },
    {
     "name": "stdout",
     "output_type": "stream",
     "text": [
      "Epoch:  50 Loss:  [0.27478383941383266]\n"
     ]
    },
    {
     "name": "stderr",
     "output_type": "stream",
     "text": [
      "100%|██████████| 100/100 [04:51<00:00,  3.01s/it]\n"
     ]
    },
    {
     "name": "stdout",
     "output_type": "stream",
     "text": [
      "Training Loss:  0.23504506996517746\n",
      "Done Training\n"
     ]
    },
    {
     "name": "stderr",
     "output_type": "stream",
     "text": [
      "\r",
      "  0%|          | 0/100 [00:00<?, ?it/s]"
     ]
    },
    {
     "name": "stdout",
     "output_type": "stream",
     "text": [
      "Test accuracy is:  0.8446041397948529\n",
      "Mean difference:  -0.19847049687067175\n",
      "Demographic parity is:  0.19847049687067175\n",
      "###############################\n",
      "for value of alpha= 0.5\n",
      "###############################\n"
     ]
    },
    {
     "name": "stderr",
     "output_type": "stream",
     "text": [
      "\r",
      "  1%|          | 1/100 [00:02<03:45,  2.28s/it]"
     ]
    },
    {
     "name": "stdout",
     "output_type": "stream",
     "text": [
      "Epoch:  0 Loss:  [0.4806442991791943]\n"
     ]
    },
    {
     "name": "stderr",
     "output_type": "stream",
     "text": [
      " 51%|█████     | 51/100 [02:37<02:38,  3.23s/it]"
     ]
    },
    {
     "name": "stdout",
     "output_type": "stream",
     "text": [
      "Epoch:  50 Loss:  [0.3330901594552404]\n"
     ]
    },
    {
     "name": "stderr",
     "output_type": "stream",
     "text": [
      "100%|██████████| 100/100 [05:18<00:00,  3.36s/it]\n"
     ]
    },
    {
     "name": "stdout",
     "output_type": "stream",
     "text": [
      "Training Loss:  0.30272703978270027\n",
      "Done Training\n"
     ]
    },
    {
     "name": "stderr",
     "output_type": "stream",
     "text": [
      "\r",
      "  0%|          | 0/100 [00:00<?, ?it/s]"
     ]
    },
    {
     "name": "stdout",
     "output_type": "stream",
     "text": [
      "Test accuracy is:  0.8481051532461151\n",
      "Mean difference:  -0.1559061293251841\n",
      "Demographic parity is:  0.1559061293251841\n",
      "###############################\n",
      "for value of alpha= 1.0\n",
      "###############################\n"
     ]
    },
    {
     "name": "stderr",
     "output_type": "stream",
     "text": [
      "\r",
      "  1%|          | 1/100 [00:02<03:45,  2.28s/it]"
     ]
    },
    {
     "name": "stdout",
     "output_type": "stream",
     "text": [
      "Epoch:  0 Loss:  [0.5260098796120576]\n"
     ]
    },
    {
     "name": "stderr",
     "output_type": "stream",
     "text": [
      " 51%|█████     | 51/100 [02:43<02:48,  3.45s/it]"
     ]
    },
    {
     "name": "stdout",
     "output_type": "stream",
     "text": [
      "Epoch:  50 Loss:  [0.3828037006915569]\n"
     ]
    },
    {
     "name": "stderr",
     "output_type": "stream",
     "text": [
      "100%|██████████| 100/100 [05:39<00:00,  3.73s/it]\n"
     ]
    },
    {
     "name": "stdout",
     "output_type": "stream",
     "text": [
      "Training Loss:  0.36378895330295796\n",
      "Done Training\n"
     ]
    },
    {
     "name": "stderr",
     "output_type": "stream",
     "text": [
      "\r",
      "  0%|          | 0/100 [00:00<?, ?it/s]"
     ]
    },
    {
     "name": "stdout",
     "output_type": "stream",
     "text": [
      "Test accuracy is:  0.8478594680916406\n",
      "Mean difference:  -0.1429811526894082\n",
      "Demographic parity is:  0.1429811526894082\n",
      "###############################\n",
      "for value of alpha= 5.0\n",
      "###############################\n"
     ]
    },
    {
     "name": "stderr",
     "output_type": "stream",
     "text": [
      "\r",
      "  1%|          | 1/100 [00:02<03:48,  2.30s/it]"
     ]
    },
    {
     "name": "stdout",
     "output_type": "stream",
     "text": [
      "Epoch:  0 Loss:  [0.6358461651512537]\n"
     ]
    },
    {
     "name": "stderr",
     "output_type": "stream",
     "text": [
      " 51%|█████     | 51/100 [03:03<03:04,  3.76s/it]"
     ]
    },
    {
     "name": "stdout",
     "output_type": "stream",
     "text": [
      "Epoch:  50 Loss:  [0.551419902091669]\n"
     ]
    },
    {
     "name": "stderr",
     "output_type": "stream",
     "text": [
      "100%|██████████| 100/100 [06:12<00:00,  4.00s/it]\n"
     ]
    },
    {
     "name": "stdout",
     "output_type": "stream",
     "text": [
      "Training Loss:  0.5513251412321575\n",
      "Done Training\n"
     ]
    },
    {
     "name": "stderr",
     "output_type": "stream",
     "text": [
      "\r",
      "  0%|          | 0/100 [00:00<?, ?it/s]"
     ]
    },
    {
     "name": "stdout",
     "output_type": "stream",
     "text": [
      "Test accuracy is:  0.7637737239727289\n",
      "Mean difference:  0.0\n",
      "Demographic parity is:  0.0\n",
      "###############################\n",
      "for value of alpha= 10.0\n",
      "###############################\n"
     ]
    },
    {
     "name": "stderr",
     "output_type": "stream",
     "text": [
      "\r",
      "  1%|          | 1/100 [00:02<03:44,  2.27s/it]"
     ]
    },
    {
     "name": "stdout",
     "output_type": "stream",
     "text": [
      "Epoch:  0 Loss:  [0.752961095869276]\n"
     ]
    },
    {
     "name": "stderr",
     "output_type": "stream",
     "text": [
      " 51%|█████     | 51/100 [03:02<03:06,  3.81s/it]"
     ]
    },
    {
     "name": "stdout",
     "output_type": "stream",
     "text": [
      "Epoch:  50 Loss:  [0.5512825363204634]\n"
     ]
    },
    {
     "name": "stderr",
     "output_type": "stream",
     "text": [
      "100%|██████████| 100/100 [06:10<00:00,  3.98s/it]\n"
     ]
    },
    {
     "name": "stdout",
     "output_type": "stream",
     "text": [
      "Training Loss:  0.5514188074501077\n",
      "Done Training\n",
      "Test accuracy is:  0.7637737239727289\n",
      "Mean difference:  0.0\n",
      "Demographic parity is:  0.0\n"
     ]
    }
   ],
   "source": [
    "# generate a range of values for accuracy anf dp using different alpha values\n",
    "accuracy_range = []\n",
    "dp_range = []\n",
    "for alpha in alpha_range:\n",
    "    print(\"###############################\")\n",
    "    print(\"for value of alpha=\", alpha)\n",
    "    print(\"###############################\")\n",
    "    model_alpha = BinaryClassifier(in_features)\n",
    "    optimizer = optim.Adam(model_alpha.parameters())\n",
    "    train_model(model_alpha, criterion, optimizer, train_loader, 100, alpha, True)\n",
    "    acc , dp = test_model(model_alpha, test_loader)\n",
    "    accuracy_range.append(acc)\n",
    "    dp_range.append(dp)\n",
    "    "
   ]
  },
  {
   "cell_type": "code",
   "execution_count": 35,
   "metadata": {
    "collapsed": false
   },
   "outputs": [
    {
     "data": {
      "text/plain": [
       "Text(0.5, 1.0, 'A plot of alpha values against accuracy')"
      ]
     },
     "execution_count": 35,
     "metadata": {},
     "output_type": "execute_result"
    },
    {
     "data": {
      "image/png": "[encoded data removed]",
      "text/plain": [
       "<Figure size 432x288 with 1 Axes>"
      ]
     },
     "metadata": {},
     "output_type": "display_data"
    }
   ],
   "source": [
    "# generate a plot of acc and dp against range of alpha values\n",
    "plt.plot(alpha_range, accuracy_range)\n",
    "plt.title(\"A plot of alpha values against accuracy\")"
   ]
  },
  {
   "cell_type": "code",
   "execution_count": 36,
   "metadata": {
    "collapsed": false,
    "scrolled": true
   },
   "outputs": [
    {
     "data": {
      "text/plain": [
       "Text(0.5, 1.0, 'A plot of alpha values against dp')"
      ]
     },
     "execution_count": 36,
     "metadata": {},
     "output_type": "execute_result"
    },
    {
     "data": {
      "image/png": "[encoded data removed]",
      "text/plain": [
       "<Figure size 432x288 with 1 Axes>"
      ]
     },
     "metadata": {},
     "output_type": "display_data"
    }
   ],
   "source": [
    "plt.plot(alpha_range, dp_range)\n",
    "plt.title(\"A plot of alpha values against dp\")\n"
   ]
  },
  {
   "cell_type": "code",
   "execution_count": 37,
   "metadata": {
    "collapsed": true
   },
   "outputs": [],
   "source": [
    "alpha_range_2 = np.array([0.00001, 0.00005, 0.0001, 0.0005, 0.001, 0.005, 0.01, 0.05, 0.1, 0.5, 1.0, 5.0, 10.0, 50.0, 100.0])"
   ]
  },
  {
   "cell_type": "code",
   "execution_count": 38,
   "metadata": {
    "collapsed": false
   },
   "outputs": [
    {
     "name": "stderr",
     "output_type": "stream",
     "text": [
      "\r",
      "  0%|          | 0/100 [00:00<?, ?it/s]"
     ]
    },
    {
     "name": "stdout",
     "output_type": "stream",
     "text": [
      "###############################\n",
      "for value of alpha= 1e-05\n",
      "###############################\n"
     ]
    },
    {
     "name": "stderr",
     "output_type": "stream",
     "text": [
      "\r",
      "  1%|          | 1/100 [00:02<03:58,  2.41s/it]"
     ]
    },
    {
     "name": "stdout",
     "output_type": "stream",
     "text": [
      "Epoch:  0 Loss:  [0.4222617020628524]\n"
     ]
    },
    {
     "name": "stderr",
     "output_type": "stream",
     "text": [
      " 51%|█████     | 51/100 [02:27<02:21,  2.90s/it]"
     ]
    },
    {
     "name": "stdout",
     "output_type": "stream",
     "text": [
      "Epoch:  50 Loss:  [0.260784723363225]\n"
     ]
    },
    {
     "name": "stderr",
     "output_type": "stream",
     "text": [
      "100%|██████████| 100/100 [04:47<00:00,  2.90s/it]\n"
     ]
    },
    {
     "name": "stdout",
     "output_type": "stream",
     "text": [
      "Training Loss:  0.2133758361339351\n",
      "Done Training\n"
     ]
    },
    {
     "name": "stderr",
     "output_type": "stream",
     "text": [
      "\r",
      "  0%|          | 0/100 [00:00<?, ?it/s]"
     ]
    },
    {
     "name": "stdout",
     "output_type": "stream",
     "text": [
      "Test accuracy is:  0.8394447515508875\n",
      "Mean difference:  -0.18388561568934397\n",
      "Demographic parity is:  0.18388561568934397\n",
      "###############################\n",
      "for value of alpha= 5e-05\n",
      "###############################\n"
     ]
    },
    {
     "name": "stderr",
     "output_type": "stream",
     "text": [
      "\r",
      "  1%|          | 1/100 [00:02<03:54,  2.37s/it]"
     ]
    },
    {
     "name": "stdout",
     "output_type": "stream",
     "text": [
      "Epoch:  0 Loss:  [0.4568145167699107]\n"
     ]
    },
    {
     "name": "stderr",
     "output_type": "stream",
     "text": [
      " 51%|█████     | 51/100 [02:27<02:25,  2.96s/it]"
     ]
    },
    {
     "name": "stdout",
     "output_type": "stream",
     "text": [
      "Epoch:  50 Loss:  [0.26428461290102184]\n"
     ]
    },
    {
     "name": "stderr",
     "output_type": "stream",
     "text": [
      "100%|██████████| 100/100 [04:52<00:00,  2.93s/it]\n"
     ]
    },
    {
     "name": "stdout",
     "output_type": "stream",
     "text": [
      "Training Loss:  0.21903009336471607\n",
      "Done Training\n"
     ]
    },
    {
     "name": "stderr",
     "output_type": "stream",
     "text": [
      "\r",
      "  0%|          | 0/100 [00:00<?, ?it/s]"
     ]
    },
    {
     "name": "stdout",
     "output_type": "stream",
     "text": [
      "Test accuracy is:  0.8422701308273448\n",
      "Mean difference:  -0.18371674101432836\n",
      "Demographic parity is:  0.18371674101432836\n",
      "###############################\n",
      "for value of alpha= 0.0001\n",
      "###############################\n"
     ]
    },
    {
     "name": "stderr",
     "output_type": "stream",
     "text": [
      "\r",
      "  1%|          | 1/100 [00:02<03:50,  2.33s/it]"
     ]
    },
    {
     "name": "stdout",
     "output_type": "stream",
     "text": [
      "Epoch:  0 Loss:  [0.406297511614525]\n"
     ]
    },
    {
     "name": "stderr",
     "output_type": "stream",
     "text": [
      " 51%|█████     | 51/100 [02:28<02:26,  2.98s/it]"
     ]
    },
    {
     "name": "stdout",
     "output_type": "stream",
     "text": [
      "Epoch:  50 Loss:  [0.26012741397981753]\n"
     ]
    },
    {
     "name": "stderr",
     "output_type": "stream",
     "text": [
      "100%|██████████| 100/100 [04:51<00:00,  2.92s/it]\n"
     ]
    },
    {
     "name": "stdout",
     "output_type": "stream",
     "text": [
      "Training Loss:  0.21455366377682455\n",
      "Done Training\n"
     ]
    },
    {
     "name": "stderr",
     "output_type": "stream",
     "text": [
      "\r",
      "  0%|          | 0/100 [00:00<?, ?it/s]"
     ]
    },
    {
     "name": "stdout",
     "output_type": "stream",
     "text": [
      "Test accuracy is:  0.8348995761931085\n",
      "Mean difference:  -0.1818524950545301\n",
      "Demographic parity is:  0.1818524950545301\n",
      "###############################\n",
      "for value of alpha= 0.0005\n",
      "###############################\n"
     ]
    },
    {
     "name": "stderr",
     "output_type": "stream",
     "text": [
      "\r",
      "  1%|          | 1/100 [00:02<03:53,  2.36s/it]"
     ]
    },
    {
     "name": "stdout",
     "output_type": "stream",
     "text": [
      "Epoch:  0 Loss:  [0.4147044881798009]\n"
     ]
    },
    {
     "name": "stderr",
     "output_type": "stream",
     "text": [
      " 51%|█████     | 51/100 [02:27<02:22,  2.90s/it]"
     ]
    },
    {
     "name": "stdout",
     "output_type": "stream",
     "text": [
      "Epoch:  50 Loss:  [0.2599462057843351]\n"
     ]
    },
    {
     "name": "stderr",
     "output_type": "stream",
     "text": [
      "100%|██████████| 100/100 [04:49<00:00,  2.90s/it]\n"
     ]
    },
    {
     "name": "stdout",
     "output_type": "stream",
     "text": [
      "Training Loss:  0.21932168193027635\n",
      "Done Training\n"
     ]
    },
    {
     "name": "stderr",
     "output_type": "stream",
     "text": [
      "\r",
      "  0%|          | 0/100 [00:00<?, ?it/s]"
     ]
    },
    {
     "name": "stdout",
     "output_type": "stream",
     "text": [
      "Test accuracy is:  0.8442970333517598\n",
      "Mean difference:  -0.1736811315928133\n",
      "Demographic parity is:  0.1736811315928133\n",
      "###############################\n",
      "for value of alpha= 0.001\n",
      "###############################\n"
     ]
    },
    {
     "name": "stderr",
     "output_type": "stream",
     "text": [
      "\r",
      "  1%|          | 1/100 [00:02<03:53,  2.36s/it]"
     ]
    },
    {
     "name": "stdout",
     "output_type": "stream",
     "text": [
      "Epoch:  0 Loss:  [0.41670002616164603]\n"
     ]
    },
    {
     "name": "stderr",
     "output_type": "stream",
     "text": [
      " 51%|█████     | 51/100 [02:27<02:21,  2.89s/it]"
     ]
    },
    {
     "name": "stdout",
     "output_type": "stream",
     "text": [
      "Epoch:  50 Loss:  [0.2613183017415681]\n"
     ]
    },
    {
     "name": "stderr",
     "output_type": "stream",
     "text": [
      "100%|██████████| 100/100 [04:50<00:00,  2.93s/it]\n"
     ]
    },
    {
     "name": "stdout",
     "output_type": "stream",
     "text": [
      "Training Loss:  0.21947987103564004\n",
      "Done Training\n"
     ]
    },
    {
     "name": "stderr",
     "output_type": "stream",
     "text": [
      "\r",
      "  0%|          | 0/100 [00:00<?, ?it/s]"
     ]
    },
    {
     "name": "stdout",
     "output_type": "stream",
     "text": [
      "Test accuracy is:  0.8408574411891161\n",
      "Mean difference:  -0.18270446116544925\n",
      "Demographic parity is:  0.18270446116544925\n",
      "###############################\n",
      "for value of alpha= 0.005\n",
      "###############################\n"
     ]
    },
    {
     "name": "stderr",
     "output_type": "stream",
     "text": [
      "\r",
      "  1%|          | 1/100 [00:02<03:58,  2.41s/it]"
     ]
    },
    {
     "name": "stdout",
     "output_type": "stream",
     "text": [
      "Epoch:  0 Loss:  [0.44978095572716964]\n"
     ]
    },
    {
     "name": "stderr",
     "output_type": "stream",
     "text": [
      " 51%|█████     | 51/100 [02:27<02:24,  2.95s/it]"
     ]
    },
    {
     "name": "stdout",
     "output_type": "stream",
     "text": [
      "Epoch:  50 Loss:  [0.2623666076657811]\n"
     ]
    },
    {
     "name": "stderr",
     "output_type": "stream",
     "text": [
      "100%|██████████| 100/100 [04:51<00:00,  2.93s/it]\n"
     ]
    },
    {
     "name": "stdout",
     "output_type": "stream",
     "text": [
      "Training Loss:  0.21928329385178888\n",
      "Done Training\n"
     ]
    },
    {
     "name": "stderr",
     "output_type": "stream",
     "text": [
      "\r",
      "  0%|          | 0/100 [00:00<?, ?it/s]"
     ]
    },
    {
     "name": "stdout",
     "output_type": "stream",
     "text": [
      "Test accuracy is:  0.8430071862907684\n",
      "Mean difference:  -0.15518690869658713\n",
      "Demographic parity is:  0.15518690869658713\n",
      "###############################\n",
      "for value of alpha= 0.01\n",
      "###############################\n"
     ]
    },
    {
     "name": "stderr",
     "output_type": "stream",
     "text": [
      "\r",
      "  1%|          | 1/100 [00:02<03:48,  2.30s/it]"
     ]
    },
    {
     "name": "stdout",
     "output_type": "stream",
     "text": [
      "Epoch:  0 Loss:  [0.44565426338612607]\n"
     ]
    },
    {
     "name": "stderr",
     "output_type": "stream",
     "text": [
      " 51%|█████     | 51/100 [02:26<02:26,  2.98s/it]"
     ]
    },
    {
     "name": "stdout",
     "output_type": "stream",
     "text": [
      "Epoch:  50 Loss:  [0.263314789721979]\n"
     ]
    },
    {
     "name": "stderr",
     "output_type": "stream",
     "text": [
      "100%|██████████| 100/100 [04:50<00:00,  2.96s/it]\n"
     ]
    },
    {
     "name": "stdout",
     "output_type": "stream",
     "text": [
      "Training Loss:  0.21735679342890166\n",
      "Done Training\n"
     ]
    },
    {
     "name": "stderr",
     "output_type": "stream",
     "text": [
      "\r",
      "  0%|          | 0/100 [00:00<?, ?it/s]"
     ]
    },
    {
     "name": "stdout",
     "output_type": "stream",
     "text": [
      "Test accuracy is:  0.8460782507217002\n",
      "Mean difference:  -0.1681688053721918\n",
      "Demographic parity is:  0.1681688053721918\n",
      "###############################\n",
      "for value of alpha= 0.05\n",
      "###############################\n"
     ]
    },
    {
     "name": "stderr",
     "output_type": "stream",
     "text": [
      "\r",
      "  1%|          | 1/100 [00:02<03:51,  2.34s/it]"
     ]
    },
    {
     "name": "stdout",
     "output_type": "stream",
     "text": [
      "Epoch:  0 Loss:  [0.42828272329252914]\n"
     ]
    },
    {
     "name": "stderr",
     "output_type": "stream",
     "text": [
      " 51%|█████     | 51/100 [02:31<02:26,  2.98s/it]"
     ]
    },
    {
     "name": "stdout",
     "output_type": "stream",
     "text": [
      "Epoch:  50 Loss:  [0.26684419988930536]\n"
     ]
    },
    {
     "name": "stderr",
     "output_type": "stream",
     "text": [
      "100%|██████████| 100/100 [04:55<00:00,  2.93s/it]\n"
     ]
    },
    {
     "name": "stdout",
     "output_type": "stream",
     "text": [
      "Training Loss:  0.2326819824427756\n",
      "Done Training\n"
     ]
    },
    {
     "name": "stderr",
     "output_type": "stream",
     "text": [
      "\r",
      "  0%|          | 0/100 [00:00<?, ?it/s]"
     ]
    },
    {
     "name": "stdout",
     "output_type": "stream",
     "text": [
      "Test accuracy is:  0.8388919599533198\n",
      "Mean difference:  -0.1756922383894839\n",
      "Demographic parity is:  0.1756922383894839\n",
      "###############################\n",
      "for value of alpha= 0.1\n",
      "###############################\n"
     ]
    },
    {
     "name": "stderr",
     "output_type": "stream",
     "text": [
      "\r",
      "  1%|          | 1/100 [00:02<03:51,  2.34s/it]"
     ]
    },
    {
     "name": "stdout",
     "output_type": "stream",
     "text": [
      "Epoch:  0 Loss:  [0.4579670276854484]\n"
     ]
    },
    {
     "name": "stderr",
     "output_type": "stream",
     "text": [
      " 51%|█████     | 51/100 [02:31<02:27,  3.02s/it]"
     ]
    },
    {
     "name": "stdout",
     "output_type": "stream",
     "text": [
      "Epoch:  50 Loss:  [0.27732429572930467]\n"
     ]
    },
    {
     "name": "stderr",
     "output_type": "stream",
     "text": [
      "100%|██████████| 100/100 [05:01<00:00,  3.07s/it]\n"
     ]
    },
    {
     "name": "stdout",
     "output_type": "stream",
     "text": [
      "Training Loss:  0.23394822894214382\n",
      "Done Training\n"
     ]
    },
    {
     "name": "stderr",
     "output_type": "stream",
     "text": [
      "\r",
      "  0%|          | 0/100 [00:00<?, ?it/s]"
     ]
    },
    {
     "name": "stdout",
     "output_type": "stream",
     "text": [
      "Test accuracy is:  0.8415944966525398\n",
      "Mean difference:  -0.16759828006697913\n",
      "Demographic parity is:  0.16759828006697913\n",
      "###############################\n",
      "for value of alpha= 0.5\n",
      "###############################\n"
     ]
    },
    {
     "name": "stderr",
     "output_type": "stream",
     "text": [
      "\r",
      "  1%|          | 1/100 [00:02<03:52,  2.35s/it]"
     ]
    },
    {
     "name": "stdout",
     "output_type": "stream",
     "text": [
      "Epoch:  0 Loss:  [0.49319788230834355]\n"
     ]
    },
    {
     "name": "stderr",
     "output_type": "stream",
     "text": [
      " 51%|█████     | 51/100 [02:41<02:44,  3.35s/it]"
     ]
    },
    {
     "name": "stdout",
     "output_type": "stream",
     "text": [
      "Epoch:  50 Loss:  [0.3356028593112621]\n"
     ]
    },
    {
     "name": "stderr",
     "output_type": "stream",
     "text": [
      "100%|██████████| 100/100 [05:29<00:00,  3.50s/it]\n"
     ]
    },
    {
     "name": "stdout",
     "output_type": "stream",
     "text": [
      "Training Loss:  0.3080379947764161\n",
      "Done Training\n"
     ]
    },
    {
     "name": "stderr",
     "output_type": "stream",
     "text": [
      "\r",
      "  0%|          | 0/100 [00:00<?, ?it/s]"
     ]
    },
    {
     "name": "stdout",
     "output_type": "stream",
     "text": [
      "Test accuracy is:  0.8492721577298692\n",
      "Mean difference:  -0.18749848400072971\n",
      "Demographic parity is:  0.18749848400072971\n",
      "###############################\n",
      "for value of alpha= 1.0\n",
      "###############################\n"
     ]
    },
    {
     "name": "stderr",
     "output_type": "stream",
     "text": [
      "\r",
      "  1%|          | 1/100 [00:02<03:53,  2.36s/it]"
     ]
    },
    {
     "name": "stdout",
     "output_type": "stream",
     "text": [
      "Epoch:  0 Loss:  [0.540180419990294]\n"
     ]
    },
    {
     "name": "stderr",
     "output_type": "stream",
     "text": [
      " 51%|█████     | 51/100 [02:45<02:51,  3.49s/it]"
     ]
    },
    {
     "name": "stdout",
     "output_type": "stream",
     "text": [
      "Epoch:  50 Loss:  [0.3779758260531336]\n"
     ]
    },
    {
     "name": "stderr",
     "output_type": "stream",
     "text": [
      "100%|██████████| 100/100 [05:39<00:00,  3.60s/it]\n"
     ]
    },
    {
     "name": "stdout",
     "output_type": "stream",
     "text": [
      "Training Loss:  0.36320849488025403\n",
      "Done Training\n"
     ]
    },
    {
     "name": "stderr",
     "output_type": "stream",
     "text": [
      "\r",
      "  0%|          | 0/100 [00:00<?, ?it/s]"
     ]
    },
    {
     "name": "stdout",
     "output_type": "stream",
     "text": [
      "Test accuracy is:  0.8506848473680978\n",
      "Mean difference:  -0.13838933103411022\n",
      "Demographic parity is:  0.13838933103411022\n",
      "###############################\n",
      "for value of alpha= 5.0\n",
      "###############################\n"
     ]
    },
    {
     "name": "stderr",
     "output_type": "stream",
     "text": [
      "\r",
      "  1%|          | 1/100 [00:02<03:55,  2.38s/it]"
     ]
    },
    {
     "name": "stdout",
     "output_type": "stream",
     "text": [
      "Epoch:  0 Loss:  [0.6247577239033318]\n"
     ]
    },
    {
     "name": "stderr",
     "output_type": "stream",
     "text": [
      " 51%|█████     | 51/100 [03:08<03:14,  3.97s/it]"
     ]
    },
    {
     "name": "stdout",
     "output_type": "stream",
     "text": [
      "Epoch:  50 Loss:  [0.5514006613659946]\n"
     ]
    },
    {
     "name": "stderr",
     "output_type": "stream",
     "text": [
      "100%|██████████| 100/100 [06:24<00:00,  4.09s/it]\n"
     ]
    },
    {
     "name": "stdout",
     "output_type": "stream",
     "text": [
      "Training Loss:  0.5511654005352047\n",
      "Done Training\n"
     ]
    },
    {
     "name": "stderr",
     "output_type": "stream",
     "text": [
      "\r",
      "  0%|          | 0/100 [00:00<?, ?it/s]"
     ]
    },
    {
     "name": "stdout",
     "output_type": "stream",
     "text": [
      "Test accuracy is:  0.7637737239727289\n",
      "Mean difference:  0.0\n",
      "Demographic parity is:  0.0\n",
      "###############################\n",
      "for value of alpha= 10.0\n",
      "###############################\n"
     ]
    },
    {
     "name": "stderr",
     "output_type": "stream",
     "text": [
      "\r",
      "  1%|          | 1/100 [00:02<03:50,  2.33s/it]"
     ]
    },
    {
     "name": "stdout",
     "output_type": "stream",
     "text": [
      "Epoch:  0 Loss:  [0.7375254622988042]\n"
     ]
    },
    {
     "name": "stderr",
     "output_type": "stream",
     "text": [
      " 51%|█████     | 51/100 [03:07<03:10,  3.89s/it]"
     ]
    },
    {
     "name": "stdout",
     "output_type": "stream",
     "text": [
      "Epoch:  50 Loss:  [0.5512762256857915]\n"
     ]
    },
    {
     "name": "stderr",
     "output_type": "stream",
     "text": [
      "100%|██████████| 100/100 [06:20<00:00,  4.05s/it]\n"
     ]
    },
    {
     "name": "stdout",
     "output_type": "stream",
     "text": [
      "Training Loss:  0.5511988960280876\n",
      "Done Training\n"
     ]
    },
    {
     "name": "stderr",
     "output_type": "stream",
     "text": [
      "\r",
      "  0%|          | 0/100 [00:00<?, ?it/s]"
     ]
    },
    {
     "name": "stdout",
     "output_type": "stream",
     "text": [
      "Test accuracy is:  0.7637737239727289\n",
      "Mean difference:  0.0\n",
      "Demographic parity is:  0.0\n",
      "###############################\n",
      "for value of alpha= 50.0\n",
      "###############################\n"
     ]
    },
    {
     "name": "stderr",
     "output_type": "stream",
     "text": [
      "\r",
      "  1%|          | 1/100 [00:02<03:52,  2.35s/it]"
     ]
    },
    {
     "name": "stdout",
     "output_type": "stream",
     "text": [
      "Epoch:  0 Loss:  [1.6151228043895458]\n"
     ]
    },
    {
     "name": "stderr",
     "output_type": "stream",
     "text": [
      " 51%|█████     | 51/100 [03:10<03:12,  3.94s/it]"
     ]
    },
    {
     "name": "stdout",
     "output_type": "stream",
     "text": [
      "Epoch:  50 Loss:  [0.5512453438129232]\n"
     ]
    },
    {
     "name": "stderr",
     "output_type": "stream",
     "text": [
      "100%|██████████| 100/100 [06:24<00:00,  4.05s/it]\n"
     ]
    },
    {
     "name": "stdout",
     "output_type": "stream",
     "text": [
      "Training Loss:  0.5512131999419912\n",
      "Done Training\n"
     ]
    },
    {
     "name": "stderr",
     "output_type": "stream",
     "text": [
      "\r",
      "  0%|          | 0/100 [00:00<?, ?it/s]"
     ]
    },
    {
     "name": "stdout",
     "output_type": "stream",
     "text": [
      "Test accuracy is:  0.7637737239727289\n",
      "Mean difference:  0.0\n",
      "Demographic parity is:  0.0\n",
      "###############################\n",
      "for value of alpha= 100.0\n",
      "###############################\n"
     ]
    },
    {
     "name": "stderr",
     "output_type": "stream",
     "text": [
      "\r",
      "  1%|          | 1/100 [00:02<03:50,  2.33s/it]"
     ]
    },
    {
     "name": "stdout",
     "output_type": "stream",
     "text": [
      "Epoch:  0 Loss:  [1.5144052014319116]\n"
     ]
    },
    {
     "name": "stderr",
     "output_type": "stream",
     "text": [
      " 51%|█████     | 51/100 [03:13<03:14,  3.96s/it]"
     ]
    },
    {
     "name": "stdout",
     "output_type": "stream",
     "text": [
      "Epoch:  50 Loss:  [0.5511125876970094]\n"
     ]
    },
    {
     "name": "stderr",
     "output_type": "stream",
     "text": [
      "100%|██████████| 100/100 [06:29<00:00,  4.12s/it]\n"
     ]
    },
    {
     "name": "stdout",
     "output_type": "stream",
     "text": [
      "Training Loss:  0.5513061476458185\n",
      "Done Training\n",
      "Test accuracy is:  0.7637737239727289\n",
      "Mean difference:  0.0\n",
      "Demographic parity is:  0.0\n"
     ]
    }
   ],
   "source": [
    "# generate a range of values for accuracy anf dp using different alpha values\n",
    "accuracy_range_2 = []\n",
    "dp_range_2 = []\n",
    "for alpha in alpha_range_2:\n",
    "    print(\"###############################\")\n",
    "    print(\"for value of alpha=\", alpha)\n",
    "    print(\"###############################\")\n",
    "    model_alpha = BinaryClassifier(in_features)\n",
    "    \n",
    "    optimizer = optim.Adam(model_alpha.parameters())\n",
    "    train_model(model_alpha, criterion, optimizer, train_loader, 100, alpha, True)\n",
    "    acc , dp = test_model(model_alpha, test_loader)\n",
    "    accuracy_range_2.append(acc)\n",
    "    dp_range_2.append(dp)"
   ]
  },
  {
   "cell_type": "code",
   "execution_count": 39,
   "metadata": {
    "collapsed": false
   },
   "outputs": [
    {
     "data": {
      "text/plain": [
       "Text(0.5, 1.0, 'A plot of alpha values against accuracy')"
      ]
     },
     "execution_count": 39,
     "metadata": {},
     "output_type": "execute_result"
    },
    {
     "data": {
      "image/png": "[encoded data removed]",
      "text/plain": [
       "<Figure size 432x288 with 1 Axes>"
      ]
     },
     "metadata": {},
     "output_type": "display_data"
    }
   ],
   "source": [
    "# generate a plot of acc and dp against range of alpha values\n",
    "plt.plot(alpha_range_2, accuracy_range_2)\n",
    "plt.title(\"A plot of alpha values against accuracy\")"
   ]
  },
  {
   "cell_type": "code",
   "execution_count": 40,
   "metadata": {
    "collapsed": false
   },
   "outputs": [
    {
     "data": {
      "text/plain": [
       "Text(0.5, 1.0, 'A plot of alpha values against dp')"
      ]
     },
     "execution_count": 40,
     "metadata": {},
     "output_type": "execute_result"
    },
    {
     "data": {
      "image/png": "[encoded data removed]",
      "text/plain": [
       "<Figure size 432x288 with 1 Axes>"
      ]
     },
     "metadata": {},
     "output_type": "display_data"
    }
   ],
   "source": [
    "plt.plot(alpha_range_2, dp_range_2)\n",
    "plt.title(\"A plot of alpha values against dp\")"
   ]
  },
  {
   "cell_type": "code",
   "execution_count": null,
   "metadata": {
    "collapsed": true
   },
   "outputs": [],
   "source": []
  }
 ],
 "metadata": {
  "kernelspec": {
   "display_name": "Python 3",
   "language": "python",
   "name": "python3"
  },
  "language_info": {
   "codemirror_mode": {
    "name": "ipython",
    "version": 3
   },
   "file_extension": ".py",
   "mimetype": "text/x-python",
   "name": "python",
   "nbconvert_exporter": "python",
   "pygments_lexer": "ipython3",
   "version": "3.5.3"
  }
 },
 "nbformat": 4,
 "nbformat_minor": 2
}
